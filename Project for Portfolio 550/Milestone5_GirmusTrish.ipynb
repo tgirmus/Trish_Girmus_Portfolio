{
 "cells": [
  {
   "cell_type": "code",
   "execution_count": 1,
   "metadata": {},
   "outputs": [
    {
     "name": "stdout",
     "output_type": "stream",
     "text": [
      "        film_code  cinema_code  total_sales  tickets_sold  tickets_out  \\\n",
      "0            1492          304      3900000            26            0   \n",
      "1            1492          352      3360000            42            0   \n",
      "2            1492          489      2560000            32            0   \n",
      "3            1492          429      1200000            12            0   \n",
      "4            1492          524      1200000            15            0   \n",
      "...           ...          ...          ...           ...          ...   \n",
      "142519       1569          495      1320000            22            0   \n",
      "142520       1569          474      1200000            15            0   \n",
      "142521       1569          524      1060000             8            0   \n",
      "142522       1569          529       600000             5            0   \n",
      "142523       1569          486       250000             5            0   \n",
      "\n",
      "        show_time  occu_perc  ticket_price  ticket_use    capacity  \\\n",
      "0               4       4.26      150000.0          26  610.328638   \n",
      "1               5       8.08       80000.0          42  519.801980   \n",
      "2               4      20.00       80000.0          32  160.000000   \n",
      "3               1      11.01      100000.0          12  108.991826   \n",
      "4               3      16.67       80000.0          15   89.982004   \n",
      "...           ...        ...           ...         ...         ...   \n",
      "142519          2       3.86       60000.0          22  569.948187   \n",
      "142520          1      65.22       80000.0          15   22.999080   \n",
      "142521          3       9.20      132500.0           8   86.956522   \n",
      "142522          2       5.00      120000.0           5  100.000000   \n",
      "142523          1       1.79       50000.0           5  279.329609   \n",
      "\n",
      "              date  month  quarter  day  \n",
      "0       2018-05-05      5        2    5  \n",
      "1       2018-05-05      5        2    5  \n",
      "2       2018-05-05      5        2    5  \n",
      "3       2018-05-05      5        2    5  \n",
      "4       2018-05-05      5        2    5  \n",
      "...            ...    ...      ...  ...  \n",
      "142519  2018-11-04     11        4    4  \n",
      "142520  2018-11-04     11        4    4  \n",
      "142521  2018-11-04     11        4    4  \n",
      "142522  2018-11-04     11        4    4  \n",
      "142523  2018-11-04     11        4    4  \n",
      "\n",
      "[142524 rows x 14 columns]\n"
     ]
    }
   ],
   "source": [
    "import pandas as pd  # import pandas library\n",
    "import matplotlib.pyplot as plt # import matplotlib for visualization & graphing\n",
    "\n",
    "cinema = \"cinemaTicket_Ref.csv\"  # assumes file is in same directory as this notebook\n",
    "\n",
    "cinema_df = pd.read_csv(cinema)  # saving dataset into a Pandas DataFrame\n",
    "\n",
    "print(cinema_df)  # double checking to ensure everything looks good"
   ]
  },
  {
   "cell_type": "code",
   "execution_count": 2,
   "metadata": {},
   "outputs": [
    {
     "data": {
      "text/html": [
       "<div>\n",
       "<style scoped>\n",
       "    .dataframe tbody tr th:only-of-type {\n",
       "        vertical-align: middle;\n",
       "    }\n",
       "\n",
       "    .dataframe tbody tr th {\n",
       "        vertical-align: top;\n",
       "    }\n",
       "\n",
       "    .dataframe thead th {\n",
       "        text-align: right;\n",
       "    }\n",
       "</style>\n",
       "<table border=\"1\" class=\"dataframe\">\n",
       "  <thead>\n",
       "    <tr style=\"text-align: right;\">\n",
       "      <th></th>\n",
       "      <th>date</th>\n",
       "    </tr>\n",
       "  </thead>\n",
       "  <tbody>\n",
       "    <tr>\n",
       "      <th>count</th>\n",
       "      <td>142524</td>\n",
       "    </tr>\n",
       "    <tr>\n",
       "      <th>unique</th>\n",
       "      <td>234</td>\n",
       "    </tr>\n",
       "    <tr>\n",
       "      <th>top</th>\n",
       "      <td>2018-05-15</td>\n",
       "    </tr>\n",
       "    <tr>\n",
       "      <th>freq</th>\n",
       "      <td>790</td>\n",
       "    </tr>\n",
       "  </tbody>\n",
       "</table>\n",
       "</div>"
      ],
      "text/plain": [
       "              date\n",
       "count       142524\n",
       "unique         234\n",
       "top     2018-05-15\n",
       "freq           790"
      ]
     },
     "execution_count": 2,
     "metadata": {},
     "output_type": "execute_result"
    }
   ],
   "source": [
    "cinema_df.describe(include = \"O\") # looks at non-numerical variables / object"
   ]
  },
  {
   "cell_type": "code",
   "execution_count": 3,
   "metadata": {},
   "outputs": [
    {
     "data": {
      "text/plain": [
       "array([ 4,  5,  1,  3,  2,  6,  7,  8, 14,  9, 12, 10, 15, 16, 13, 11, 17,\n",
       "       19, 18, 22, 26, 24, 20, 21, 27, 38, 28, 40, 29, 23, 25, 30, 31, 32,\n",
       "       33, 35, 36, 44, 52, 46, 43, 39, 42, 48, 50, 47, 60, 34, 45, 37, 41],\n",
       "      dtype=int64)"
      ]
     },
     "execution_count": 3,
     "metadata": {},
     "output_type": "execute_result"
    }
   ],
   "source": [
    "cinema_df.show_time.unique() # checking to see how many unique values there are\n",
    "# there are 51 unique show times"
   ]
  },
  {
   "cell_type": "code",
   "execution_count": 4,
   "metadata": {},
   "outputs": [
    {
     "data": {
      "text/plain": [
       "Text(0, 0.5, 'total sales')"
      ]
     },
     "execution_count": 4,
     "metadata": {},
     "output_type": "execute_result"
    },
    {
     "data": {
      "image/png": "[encoded data removed]",
      "text/plain": [
       "<Figure size 432x288 with 1 Axes>"
      ]
     },
     "metadata": {
      "needs_background": "light"
     },
     "output_type": "display_data"
    }
   ],
   "source": [
    "# Plotting show_time vs. total_sales for visualization\n",
    "plt.scatter(cinema_df[\"show_time\"], cinema_df[\"total_sales\"])\n",
    "plt.title(\"Show Time vs. Total Sales\")\n",
    "plt.xlabel(\"show time\")\n",
    "plt.ylabel(\"total sales\")\n",
    "# Unfortunately the show_time feature doesn't indicate what unit of value it is, so I do not know what time the movies aired. \n",
    "# Looking at the graph below, it appears that the majority of total sales occurred during the smaller numbers of show times.\n",
    "# The higher the show time also shows the higher number of total sales, but the frequency is much less compared to the \n",
    "# majority of show times with smaller numbers as indicated earlier."
   ]
  },
  {
   "cell_type": "markdown",
   "metadata": {},
   "source": [
    "Preprocessing data. Next steps:\n",
    "- Drop features that are unnecessary or irrelevant to the eventual linear regression model that I am attempting to build.\n",
    "- Identify and remove features with missing rows.\n",
    "- Create new features for the dataset."
   ]
  },
  {
   "cell_type": "code",
   "execution_count": 5,
   "metadata": {},
   "outputs": [],
   "source": [
    "# Drop tickets_out, ticket_sold, film_code, cinema_code, occu_perc; we could have done\n",
    "# this one line, but separated here for writing out code to view easier\n",
    "#cinema_df = cinema_df.drop([\"show_time\"], axis = 1)\n",
    "cinema_df = cinema_df.drop([\"tickets_out\"], axis = 1)\n",
    "cinema_df = cinema_df.drop([\"tickets_sold\"], axis =1)\n",
    "cinema_df = cinema_df.drop([\"film_code\"], axis = 1)\n",
    "cinema_df = cinema_df.drop([\"cinema_code\"], axis = 1)\n",
    "cinema_df = cinema_df.drop([\"occu_perc\"], axis = 1)"
   ]
  },
  {
   "cell_type": "code",
   "execution_count": 6,
   "metadata": {},
   "outputs": [
    {
     "name": "stdout",
     "output_type": "stream",
     "text": [
      "capacity\n"
     ]
    }
   ],
   "source": [
    "\"\"\"\n",
    "In this for loop, I am identifying which columns contains\n",
    "rows with missing values. The output should show that there\n",
    "is 1 column/feature from this dataset with missing\n",
    "values: capacity.\n",
    "\"\"\"\n",
    "for column_name in cinema_df.columns:\n",
    "    if cinema_df[column_name].isnull().values.any() == True:  # if this is True, then there is a missing value\n",
    "        print(column_name)"
   ]
  },
  {
   "cell_type": "code",
   "execution_count": 7,
   "metadata": {},
   "outputs": [],
   "source": [
    "# Removing missing values in row by filtering it out\n",
    "cinema_df = cinema_df[cinema_df[\"capacity\"].isnull() == False]"
   ]
  },
  {
   "cell_type": "code",
   "execution_count": 8,
   "metadata": {},
   "outputs": [],
   "source": [
    "\"\"\"\n",
    "Adding 1st new feature, day_of_week, to determine what day of the week \n",
    "shows higher or lower balances. This will help determine what days \n",
    "had higher ticket sales as well as tickets sold. \n",
    "\"\"\"\n",
    "def get_day_of_week(x):  # creating lambda function for the day of the week\n",
    "    from datetime import datetime\n",
    "    y = datetime.strptime(x, \"%Y-%m-%d\")\n",
    "    return datetime.strftime(y, \"%A\")\n",
    "\n",
    "cinema_df['day_of_week'] = cinema_df['date'].apply(lambda x: get_day_of_week(x))\n"
   ]
  },
  {
   "cell_type": "code",
   "execution_count": 9,
   "metadata": {},
   "outputs": [],
   "source": [
    "\"\"\"\n",
    "Adding 2nd feature, season, to help determine when total sales and tickets sold\n",
    "to help with prediction of generating more revenue.\n",
    "\"\"\"\n",
    "def check_season(date_string):  # creating a lambda function to determine season based on dates in 2018\n",
    "    if date_string < \"2018-03-20\":\n",
    "        return \"Winter\"\n",
    "    elif date_string < \"2018-06-21\":\n",
    "        return \"Spring\"\n",
    "    elif date_string < \"2018-09-22\":\n",
    "        return \"Summer\"\n",
    "    else:\n",
    "        return \"Fall\"\n",
    "    \n",
    "cinema_df['season'] = cinema_df[\"date\"].apply(lambda x: check_season(x))"
   ]
  },
  {
   "cell_type": "markdown",
   "metadata": {},
   "source": [
    "Identifying which columns/features have strongest features that most influence the target variable/column, which is the \"total_sales\" column. Identify features with most influence numerical output target of \"total_sales\". These are the columns which I believe are strong features to the target variable:\n",
    "- show_time\n",
    "- ticket_price\n",
    "- capacity\n",
    "- quarter\n",
    "- day_of_week\n",
    "- season"
   ]
  },
  {
   "cell_type": "code",
   "execution_count": 10,
   "metadata": {},
   "outputs": [
    {
     "name": "stdout",
     "output_type": "stream",
     "text": [
      "        ticket_price    capacity  show_time_10  show_time_11  show_time_12  \\\n",
      "0           150000.0  610.328638             0             0             0   \n",
      "1            80000.0  519.801980             0             0             0   \n",
      "2            80000.0  160.000000             0             0             0   \n",
      "3           100000.0  108.991826             0             0             0   \n",
      "4            80000.0   89.982004             0             0             0   \n",
      "...              ...         ...           ...           ...           ...   \n",
      "142519       60000.0  569.948187             0             0             0   \n",
      "142520       80000.0   22.999080             0             0             0   \n",
      "142521      132500.0   86.956522             0             0             0   \n",
      "142522      120000.0  100.000000             0             0             0   \n",
      "142523       50000.0  279.329609             0             0             0   \n",
      "\n",
      "        show_time_13  show_time_14  show_time_15  show_time_16  show_time_17  \\\n",
      "0                  0             0             0             0             0   \n",
      "1                  0             0             0             0             0   \n",
      "2                  0             0             0             0             0   \n",
      "3                  0             0             0             0             0   \n",
      "4                  0             0             0             0             0   \n",
      "...              ...           ...           ...           ...           ...   \n",
      "142519             0             0             0             0             0   \n",
      "142520             0             0             0             0             0   \n",
      "142521             0             0             0             0             0   \n",
      "142522             0             0             0             0             0   \n",
      "142523             0             0             0             0             0   \n",
      "\n",
      "        ...  quarter_4  day_of_week_Monday  day_of_week_Saturday  \\\n",
      "0       ...          0                   0                     1   \n",
      "1       ...          0                   0                     1   \n",
      "2       ...          0                   0                     1   \n",
      "3       ...          0                   0                     1   \n",
      "4       ...          0                   0                     1   \n",
      "...     ...        ...                 ...                   ...   \n",
      "142519  ...          1                   0                     0   \n",
      "142520  ...          1                   0                     0   \n",
      "142521  ...          1                   0                     0   \n",
      "142522  ...          1                   0                     0   \n",
      "142523  ...          1                   0                     0   \n",
      "\n",
      "        day_of_week_Sunday  day_of_week_Thursday  day_of_week_Tuesday  \\\n",
      "0                        0                     0                    0   \n",
      "1                        0                     0                    0   \n",
      "2                        0                     0                    0   \n",
      "3                        0                     0                    0   \n",
      "4                        0                     0                    0   \n",
      "...                    ...                   ...                  ...   \n",
      "142519                   1                     0                    0   \n",
      "142520                   1                     0                    0   \n",
      "142521                   1                     0                    0   \n",
      "142522                   1                     0                    0   \n",
      "142523                   1                     0                    0   \n",
      "\n",
      "        day_of_week_Wednesday  season_Spring  season_Summer  season_Winter  \n",
      "0                           0              1              0              0  \n",
      "1                           0              1              0              0  \n",
      "2                           0              1              0              0  \n",
      "3                           0              1              0              0  \n",
      "4                           0              1              0              0  \n",
      "...                       ...            ...            ...            ...  \n",
      "142519                      0              0              0              0  \n",
      "142520                      0              0              0              0  \n",
      "142521                      0              0              0              0  \n",
      "142522                      0              0              0              0  \n",
      "142523                      0              0              0              0  \n",
      "\n",
      "[142399 rows x 64 columns]\n"
     ]
    }
   ],
   "source": [
    "# These are all the features, created in a subset of the cinema_df DataFrame, called X.\n",
    "# Need to convert \"show_time\" & \"quarter\" into categorical because the numbers in show time & quarter \n",
    "# are not meant to be quantitative.\n",
    "cinema_df[\"show_time\"] = cinema_df[\"show_time\"].astype(str)\n",
    "cinema_df[\"quarter\"] = cinema_df[\"quarter\"].astype(str)\n",
    "\n",
    "X = cinema_df[[\"show_time\", \"ticket_price\", \"capacity\", \"quarter\", \"day_of_week\", \"season\"]]\n",
    "\n",
    "\"\"\"\n",
    "There are some categorical variables that need to converted into\n",
    "dummy variables. This is done by using the get_dummies() function\n",
    "from the Pandas library\n",
    "\n",
    "https://pandas.pydata.org/docs/reference/api/pandas.get_dummies.html\n",
    "\"\"\"\n",
    "X = pd.get_dummies(data=X, drop_first=True)\n",
    "print(X)\n",
    "# I now have 142,399 rows and 64 columns"
   ]
  },
  {
   "cell_type": "code",
   "execution_count": 11,
   "metadata": {},
   "outputs": [],
   "source": [
    "# Target has been identified; target variable as total_sales\n",
    "Y = cinema_df[\"total_sales\"]"
   ]
  },
  {
   "cell_type": "code",
   "execution_count": 12,
   "metadata": {},
   "outputs": [],
   "source": [
    "# Create a train and test dataset.\n",
    "# The former will be used to train/build\n",
    "# the model, while the latter (test dataset) will be used to predict and determine the\n",
    "# performance of the linear regression model.\n",
    "from sklearn.model_selection import train_test_split\n",
    "\n",
    "X_train, X_test, y_train, y_test = train_test_split(X, Y, test_size = 0.4)"
   ]
  },
  {
   "cell_type": "markdown",
   "metadata": {},
   "source": [
    "Build a linear regression model since I am trying to predict and analyze a\n",
    "numerical output. In this case, that numerical output is the \"total_sales\" column. Begin by initializing the model object needed for this linear regression, which is the LinearRegression object from scikit-learn."
   ]
  },
  {
   "cell_type": "code",
   "execution_count": 13,
   "metadata": {},
   "outputs": [
    {
     "data": {
      "text/plain": [
       "LinearRegression(n_jobs=5, normalize=True)"
      ]
     },
     "execution_count": 13,
     "metadata": {},
     "output_type": "execute_result"
    }
   ],
   "source": [
    "from sklearn.linear_model import LinearRegression\n",
    "lin_reg_model = LinearRegression(normalize = True, n_jobs = 5)\n",
    "lin_reg_model.fit(X_train, y_train)  # fit the model using our training dataset subset"
   ]
  },
  {
   "cell_type": "code",
   "execution_count": 14,
   "metadata": {},
   "outputs": [
    {
     "name": "stdout",
     "output_type": "stream",
     "text": [
      "[16168134.14042104  7944126.42917404  1378491.2045135  ...\n",
      " 28055547.66131549 10159623.40078743 20783816.17569381]\n",
      "[11650000  2240000    60000 ... 10500000  7000000  3600000]\n"
     ]
    }
   ],
   "source": [
    "# Make the model predict!\n",
    "predictions = lin_reg_model.predict(X_test)\n",
    "print(predictions)\n",
    "print(y_test.values)"
   ]
  },
  {
   "cell_type": "code",
   "execution_count": 15,
   "metadata": {},
   "outputs": [
    {
     "name": "stdout",
     "output_type": "stream",
     "text": [
      "[11650000  2240000    60000 ... 10500000  7000000  3600000] [16168134.14042104  7944126.42917404  1378491.2045135  ...\n",
      " 28055547.66131549 10159623.40078743 20783816.17569381]\n"
     ]
    }
   ],
   "source": [
    "print(y_test.values, predictions) # printing the test values and predictions"
   ]
  },
  {
   "cell_type": "code",
   "execution_count": 16,
   "metadata": {},
   "outputs": [
    {
     "data": {
      "image/png": "[encoded data removed]",
      "text/plain": [
       "<Figure size 432x288 with 1 Axes>"
      ]
     },
     "metadata": {
      "needs_background": "light"
     },
     "output_type": "display_data"
    }
   ],
   "source": [
    "# Plotting graph to visualize training values to see if there any similarities/differences with prediction data,\n",
    "# and determining if there are any outliers\n",
    "# https://stackoverflow.com/questions/51726509/python-plot-two-lists-with-different-length\n",
    "\n",
    "y_train_x = range(0, len(y_train.values))\n",
    "predictions_x = range(0, len(predictions))\n",
    "\n",
    "import matplotlib.pyplot as plt\n",
    "fig, ax = plt.subplots()\n",
    "ax.scatter(y_train_x, y_train.values, label = \"training\")\n",
    "ax.scatter(predictions_x, predictions, label = \"predictions\")\n",
    "plt.legend()\n",
    "plt.ylabel(\"total sales\")\n",
    "plt.title(\"Training Dataset Total Sales vs. Predicted Total Sales\")\n",
    "plt.show()\n",
    "# no outliers indicated in scatterplot seen with visualization below"
   ]
  },
  {
   "cell_type": "markdown",
   "metadata": {},
   "source": [
    "After some exhaustive trial and error, I found that seaborn is much more suitable for visualizing regression models than matplotlib, mainly because there is a built-in function in seaborn called regplot. "
   ]
  },
  {
   "cell_type": "code",
   "execution_count": 23,
   "metadata": {
    "scrolled": true
   },
   "outputs": [
    {
     "data": {
      "text/plain": [
       "<matplotlib.axes._subplots.AxesSubplot at 0x207001b5700>"
      ]
     },
     "execution_count": 23,
     "metadata": {},
     "output_type": "execute_result"
    },
    {
     "data": {
      "image/png": "[encoded data removed]",
      "text/plain": [
       "<Figure size 432x288 with 1 Axes>"
      ]
     },
     "metadata": {
      "needs_background": "light"
     },
     "output_type": "display_data"
    }
   ],
   "source": [
    "# Plotting a multiple linear regression graph to analyze y_test values & predicted values\n",
    "import seaborn as sns\n",
    "import matplotlib.pyplot as plt\n",
    "\n",
    "\n",
    "sns.regplot(y_test.values, predictions)\n",
    "\n",
    "\n",
    "#plt.plot(y_test.values, predictions)\n",
    "#plt.xlim(0,10**9)\n",
    "#plt.ylim(0,10**9)\n",
    "\n",
    "# This graph shows that the model is not great. It has a weak relationship with y_test values & predicted values.\n",
    "# This is also indicated with R squared score shown below in further analysis"
   ]
  },
  {
   "cell_type": "markdown",
   "metadata": {},
   "source": [
    "Also checking the R-squared values using an Ordinary Least Squares (OLS) model, from the statsmodels package.\n",
    "\n",
    "> The most common interpretation of r-squared is how well the regression model fits the observed data. For example, an r-squared of 60% reveals that 60% of the data fit the regression model. Generally, a higher r-squared indicates a better fit for the model.\n",
    "\n",
    "The code below shows that running OLS results in a R-squared is 0.501!"
   ]
  },
  {
   "cell_type": "code",
   "execution_count": 18,
   "metadata": {},
   "outputs": [
    {
     "name": "stdout",
     "output_type": "stream",
     "text": [
      "                            OLS Regression Results                            \n",
      "==============================================================================\n",
      "Dep. Variable:            total_sales   R-squared:                       0.501\n",
      "Model:                            OLS   Adj. R-squared:                  0.501\n",
      "Method:                 Least Squares   F-statistic:                     1363.\n",
      "Date:                Sat, 05 Jun 2021   Prob (F-statistic):               0.00\n",
      "Time:                        12:25:57   Log-Likelihood:            -1.5670e+06\n",
      "No. Observations:               85439   AIC:                         3.134e+06\n",
      "Df Residuals:                   85375   BIC:                         3.135e+06\n",
      "Df Model:                          63                                         \n",
      "Covariance Type:            nonrobust                                         \n",
      "=========================================================================================\n",
      "                            coef    std err          t      P>|t|      [0.025      0.975]\n",
      "-----------------------------------------------------------------------------------------\n",
      "const                 -1.644e+07   7.84e+05    -20.963      0.000    -1.8e+07   -1.49e+07\n",
      "ticket_price            245.5653      2.667     92.081      0.000     240.338     250.792\n",
      "capacity               6768.6661    117.454     57.628      0.000    6538.456    6998.876\n",
      "show_time_10           1.659e+07   7.28e+05     22.782      0.000    1.52e+07     1.8e+07\n",
      "show_time_11           4.854e+07   1.43e+06     33.851      0.000    4.57e+07    5.14e+07\n",
      "show_time_12            3.35e+06    7.3e+05      4.589      0.000    1.92e+06    4.78e+06\n",
      "show_time_13           7.217e+07   1.63e+06     44.265      0.000     6.9e+07    7.54e+07\n",
      "show_time_14           5.649e+06   9.29e+05      6.080      0.000    3.83e+06    7.47e+06\n",
      "show_time_15           7.433e+07   2.36e+06     31.548      0.000    6.97e+07     7.9e+07\n",
      "show_time_16           3.961e+07   1.54e+06     25.656      0.000    3.66e+07    4.26e+07\n",
      "show_time_17           1.315e+08   3.01e+06     43.641      0.000    1.26e+08    1.37e+08\n",
      "show_time_18           7.258e+07   2.72e+06     26.655      0.000    6.72e+07    7.79e+07\n",
      "show_time_19            1.32e+08    4.4e+06     30.000      0.000    1.23e+08    1.41e+08\n",
      "show_time_2             8.54e+04   2.55e+05      0.335      0.738   -4.15e+05    5.86e+05\n",
      "show_time_20           7.817e+07    3.6e+06     21.737      0.000    7.11e+07    8.52e+07\n",
      "show_time_21           1.988e+08   5.15e+06     38.610      0.000    1.89e+08    2.09e+08\n",
      "show_time_22           1.926e+08   4.49e+06     42.885      0.000    1.84e+08    2.01e+08\n",
      "show_time_23           2.605e+08   8.46e+06     30.779      0.000    2.44e+08    2.77e+08\n",
      "show_time_24           1.549e+08   4.03e+06     38.392      0.000    1.47e+08    1.63e+08\n",
      "show_time_25            3.85e+08   6.77e+06     56.897      0.000    3.72e+08    3.98e+08\n",
      "show_time_26           1.623e+08    5.6e+06     28.967      0.000    1.51e+08    1.73e+08\n",
      "show_time_27           3.538e+08   7.48e+06     47.325      0.000    3.39e+08    3.68e+08\n",
      "show_time_28           2.388e+08   5.99e+06     39.833      0.000    2.27e+08    2.51e+08\n",
      "show_time_29           3.859e+08   7.93e+06     48.696      0.000     3.7e+08    4.01e+08\n",
      "show_time_3           -1.629e+06   2.62e+05     -6.230      0.000   -2.14e+06   -1.12e+06\n",
      "show_time_30           1.435e+08   7.08e+06     20.264      0.000     1.3e+08    1.57e+08\n",
      "show_time_31           3.272e+08   7.93e+06     41.254      0.000    3.12e+08    3.43e+08\n",
      "show_time_32            2.19e+08   8.46e+06     25.883      0.000    2.02e+08    2.36e+08\n",
      "show_time_33            4.51e+08   7.93e+06     56.841      0.000    4.35e+08    4.67e+08\n",
      "show_time_34           2.443e+08   9.14e+06     26.715      0.000    2.26e+08    2.62e+08\n",
      "show_time_35           2.901e+08   1.12e+07     25.924      0.000    2.68e+08    3.12e+08\n",
      "show_time_36           1.841e+08   9.14e+06     20.143      0.000    1.66e+08    2.02e+08\n",
      "show_time_37           4.963e+08   2.24e+07     22.182      0.000    4.52e+08     5.4e+08\n",
      "show_time_38           4.396e+08   1.12e+07     39.254      0.000    4.18e+08    4.62e+08\n",
      "show_time_39           6.192e+08   1.58e+07     39.132      0.000    5.88e+08     6.5e+08\n",
      "show_time_4            1.483e+06    2.9e+05      5.116      0.000    9.15e+05    2.05e+06\n",
      "show_time_40            1.95e+08   1.29e+07     15.098      0.000     1.7e+08     2.2e+08\n",
      "show_time_41          -4.085e-07   1.22e-08    -33.379      0.000   -4.32e-07   -3.84e-07\n",
      "show_time_42           1.921e+08   1.29e+07     14.876      0.000    1.67e+08    2.17e+08\n",
      "show_time_43           1.084e+09   2.24e+07     48.415      0.000    1.04e+09    1.13e+09\n",
      "show_time_44            4.63e+08   1.29e+07     35.822      0.000    4.38e+08    4.88e+08\n",
      "show_time_45            2.52e+08   2.24e+07     11.272      0.000    2.08e+08    2.96e+08\n",
      "show_time_46           1.964e+08   1.58e+07     12.417      0.000    1.65e+08    2.27e+08\n",
      "show_time_47           1.175e+09   2.24e+07     52.481      0.000    1.13e+09    1.22e+09\n",
      "show_time_48           1.982e+08   2.24e+07      8.863      0.000    1.54e+08    2.42e+08\n",
      "show_time_5            4.714e+06   3.94e+05     11.953      0.000    3.94e+06    5.49e+06\n",
      "show_time_50           1.927e+08   2.24e+07      8.619      0.000    1.49e+08    2.37e+08\n",
      "show_time_52           2.345e+08   2.24e+07     10.488      0.000    1.91e+08    2.78e+08\n",
      "show_time_6            2.364e+06   3.39e+05      6.977      0.000     1.7e+06    3.03e+06\n",
      "show_time_60           4.218e+08   2.24e+07     18.862      0.000    3.78e+08    4.66e+08\n",
      "show_time_7            1.049e+07    4.7e+05     22.303      0.000    9.57e+06    1.14e+07\n",
      "show_time_8            9.803e+06   4.86e+05     20.176      0.000    8.85e+06    1.08e+07\n",
      "show_time_9            3.846e+07   9.15e+05     42.044      0.000    3.67e+07    4.03e+07\n",
      "quarter_2              -7.48e+06    3.9e+05    -19.174      0.000   -8.24e+06   -6.72e+06\n",
      "quarter_3             -2.543e+06   5.47e+05     -4.647      0.000   -3.62e+06   -1.47e+06\n",
      "quarter_4               2.46e+06   7.24e+05      3.398      0.001    1.04e+06    3.88e+06\n",
      "day_of_week_Monday    -9.625e+06   2.91e+05    -33.109      0.000   -1.02e+07   -9.06e+06\n",
      "day_of_week_Saturday   -6.57e+06   2.82e+05    -23.334      0.000   -7.12e+06   -6.02e+06\n",
      "day_of_week_Sunday    -8.895e+06   2.84e+05    -31.346      0.000   -9.45e+06   -8.34e+06\n",
      "day_of_week_Thursday  -1.849e+06   2.78e+05     -6.646      0.000   -2.39e+06    -1.3e+06\n",
      "day_of_week_Tuesday    6.617e+06      3e+05     22.090      0.000    6.03e+06     7.2e+06\n",
      "day_of_week_Wednesday -6.243e+06   2.85e+05    -21.942      0.000    -6.8e+06   -5.69e+06\n",
      "season_Spring          1.332e+07   5.91e+05     22.523      0.000    1.22e+07    1.45e+07\n",
      "season_Summer          4.889e+06   4.51e+05     10.837      0.000       4e+06    5.77e+06\n",
      "season_Winter          2.867e+05   9.85e+05      0.291      0.771   -1.64e+06    2.22e+06\n",
      "==============================================================================\n",
      "Omnibus:                    86528.277   Durbin-Watson:                   1.999\n",
      "Prob(Omnibus):                  0.000   Jarque-Bera (JB):         18240514.190\n",
      "Skew:                           4.559   Prob(JB):                         0.00\n",
      "Kurtosis:                      73.998   Cond. No.                     6.96e+21\n",
      "==============================================================================\n",
      "\n",
      "Warnings:\n",
      "[1] Standard Errors assume that the covariance matrix of the errors is correctly specified.\n",
      "[2] The smallest eigenvalue is 1.36e-29. This might indicate that there are\n",
      "strong multicollinearity problems or that the design matrix is singular.\n"
     ]
    }
   ],
   "source": [
    "import statsmodels.api as sm # importing statsmodels.api\n",
    "X_train_Sm = sm.add_constant(X_train)\n",
    "X_train_Sm = sm.add_constant(X_train)\n",
    "ls = sm.OLS(y_train,X_train_Sm).fit()  # ordinary least squares model from the statsmodels package\n",
    "print(ls.summary()) # shows the OLS results"
   ]
  },
  {
   "cell_type": "markdown",
   "metadata": {},
   "source": [
    "A linear regression model would show that there were several features that yield potentially good predictions of what generates total_sales. Unfortunately I did not have a good model looking at the R-squared value of 50.1%. However, before adding the feature show_time to my model, my previous R-squared value was 25.8%. This indicates that by adding another feature to the model did help to improve the score, but unfortunately the model is still not that great. I will elaborate on this more in my paper."
   ]
  },
  {
   "cell_type": "code",
   "execution_count": null,
   "metadata": {},
   "outputs": [],
   "source": []
  }
 ],
 "metadata": {
  "kernelspec": {
   "display_name": "Python 3",
   "language": "python",
   "name": "python3"
  },
  "language_info": {
   "codemirror_mode": {
    "name": "ipython",
    "version": 3
   },
   "file_extension": ".py",
   "mimetype": "text/x-python",
   "name": "python",
   "nbconvert_exporter": "python",
   "pygments_lexer": "ipython3",
   "version": "3.8.3"
  }
 },
 "nbformat": 4,
 "nbformat_minor": 2
}
