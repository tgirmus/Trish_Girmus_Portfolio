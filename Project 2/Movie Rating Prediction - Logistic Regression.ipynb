{
 "cells": [
  {
   "cell_type": "code",
   "execution_count": 1,
   "metadata": {},
   "outputs": [],
   "source": [
    "#!pip install cinemagoer"
   ]
  },
  {
   "cell_type": "code",
   "execution_count": 257,
   "metadata": {},
   "outputs": [],
   "source": [
    "# Import Libraries/Packages\n",
    "from imdb import Cinemagoer # object that allows to select data from imdb database\n",
    "import pandas as pd\n",
    "import numpy as np\n",
    "from sklearn.linear_model import LogisticRegression\n",
    "from sklearn.model_selection import train_test_split\n",
    "from sklearn import metrics\n",
    "import matplotlib.pyplot as plt\n",
    "import statistics"
   ]
  },
  {
   "cell_type": "markdown",
   "metadata": {},
   "source": [
    "<h1><font color=\"blue\">Import data</font></h1>"
   ]
  },
  {
   "cell_type": "code",
   "execution_count": 7,
   "metadata": {},
   "outputs": [],
   "source": [
    "ia = Cinemagoer() # an instance of the Cinemagoer object"
   ]
  },
  {
   "cell_type": "code",
   "execution_count": 8,
   "metadata": {},
   "outputs": [],
   "source": [
    "search_results = ia.search_person(\"Nicolas Cage\")"
   ]
  },
  {
   "cell_type": "code",
   "execution_count": 9,
   "metadata": {},
   "outputs": [
    {
     "name": "stdout",
     "output_type": "stream",
     "text": [
      "[<Person id:0000115[http] name:_Nicolas Cage_>, <Person id:7751235[http] name:_Nicolas Cantu_>, <Person id:1002627[http] name:_Nicolas Cazalé_>, <Person id:0184610[http] name:_Nicolas Cowan_>, <Person id:0182661[http] name:_Nicolas Coster_>, <Person id:13207331[http] name:_Nicolas Calero_>, <Person id:2089023[http] name:_Nicolas Capus_>, <Person id:0190988[http] name:_Nicolas Cuche_>, <Person id:1454105[http] name:_Nicolas Cadot_>, <Person id:12419960[http] name:_Nicolas Cala_>, <Person id:0779622[http] name:_Nicola Scott (I)_>, <Person id:1211208[http] name:_Nicolas Cade_>, <Person id:9004199[http] name:_Nicolas Carcagno_>, <Person id:1216045[http] name:_Nicolas Canniccioni_>, <Person id:1291566[http] name:_Nicolas Chartier_>, <Person id:2457419[http] name:_Nicolas Cagniard_>, <Person id:1904184[http] name:_Nicolas Caeyers_>, <Person id:12968593[http] name:_Nicolas Calas_>, <Person id:9076150[http] name:_Nicola Scavo_>, <Person id:8666615[http] name:_Nicolas Carra_>]\n"
     ]
    }
   ],
   "source": [
    "print(search_results)"
   ]
  },
  {
   "cell_type": "code",
   "execution_count": 10,
   "metadata": {},
   "outputs": [],
   "source": [
    "nic_cage = ia.get_person('0000115') # using Nicolas Cage's person ID # as my variable"
   ]
  },
  {
   "cell_type": "code",
   "execution_count": 11,
   "metadata": {},
   "outputs": [
    {
     "name": "stdout",
     "output_type": "stream",
     "text": [
      "Nicolas Cage\n"
     ]
    }
   ],
   "source": [
    "print(nic_cage) # shows the right Nicolas Cage!"
   ]
  },
  {
   "cell_type": "code",
   "execution_count": 12,
   "metadata": {},
   "outputs": [
    {
     "data": {
      "text/plain": [
       "['birth info',\n",
       " 'headshot',\n",
       " 'akas',\n",
       " 'filmography',\n",
       " 'in development',\n",
       " 'imdbID',\n",
       " 'name',\n",
       " 'nick names',\n",
       " 'birth name',\n",
       " 'height',\n",
       " 'mini biography',\n",
       " 'trade mark',\n",
       " 'trivia',\n",
       " 'quotes',\n",
       " 'salary history',\n",
       " 'birth date',\n",
       " 'birth notes',\n",
       " 'canonical name',\n",
       " 'long imdb name',\n",
       " 'long imdb canonical name',\n",
       " 'full-size headshot']"
      ]
     },
     "execution_count": 12,
     "metadata": {},
     "output_type": "execute_result"
    }
   ],
   "source": [
    "nic_cage.keys() # available values to use to obtain certain information for a person"
   ]
  },
  {
   "cell_type": "code",
   "execution_count": 13,
   "metadata": {},
   "outputs": [
    {
     "data": {
      "text/plain": [
       "{'actor': [<Movie id:1462759[http] title:_Butcher's Crossing () (None)_>,\n",
       "  <Movie id:11358390[http] title:_Renfield (2023)_>,\n",
       "  <Movie id:8593824[http] title:_The Old Way (2022)_>,\n",
       "  <Movie id:14827638[http] title:_The Retirement Plan (2022)_>,\n",
       "  <Movie id:12261642[http] title:_Untitled Joe Exotic Project () (None)_>,\n",
       "  <Movie id:11291274[http] title:_The Unbearable Weight of Massive Talent (2022)_>,\n",
       "  <Movie id:11003218[http] title:_Pig (I) (2021)_>,\n",
       "  <Movie id:8114980[http] title:_Willy's Wonderland (2021)_>,\n",
       "  <Movie id:6372694[http] title:_Prisoners of the Ghostland (2021)_>,\n",
       "  <Movie id:2850386[http] title:_The Croods: A New Age (2020)_>,\n",
       "  <Movie id:9624766[http] title:_Jiu Jitsu (2020)_>,\n",
       "  <Movie id:8380776[http] title:_Grand Isle (2019)_>,\n",
       "  <Movie id:7394816[http] title:_Primal (2019)_>,\n",
       "  <Movie id:8535180[http] title:_Kill Chain (2019)_>,\n",
       "  <Movie id:5792656[http] title:_Running with the Devil (2019)_>,\n",
       "  <Movie id:5073642[http] title:_Color Out of Space (2019)_>,\n",
       "  <Movie id:3758162[http] title:_A Score to Settle (2019)_>,\n",
       "  <Movie id:4633694[http] title:_Spider-Man: Into the Spider-Verse (2018)_>,\n",
       "  <Movie id:7295450[http] title:_Between Worlds (2018)_>,\n",
       "  <Movie id:7424200[http] title:_Teen Titans GO! To the Movies (2018)_>,\n",
       "  <Movie id:4976192[http] title:_211 (2018)_>,\n",
       "  <Movie id:6083648[http] title:_Looking Glass (I) (2018)_>,\n",
       "  <Movie id:6998518[http] title:_Mandy (I) (2018)_>,\n",
       "  <Movie id:10690676[http] title:_Dark (II) (2017)_>,\n",
       "  <Movie id:6143568[http] title:_The Humanity Bureau (2017)_>,\n",
       "  <Movie id:5462326[http] title:_Mom and Dad (2017)_>,\n",
       "  <Movie id:3481634[http] title:_Inconceivable (2017)_>,\n",
       "  <Movie id:5460530[http] title:_Vengeance: A Love Story (2017)_>,\n",
       "  <Movie id:5580536[http] title:_Arsenal (2017)_>,\n",
       "  <Movie id:4382824[http] title:_Army of One (2016)_>,\n",
       "  <Movie id:2032572[http] title:_USS Indianapolis: Men of Courage (2016)_>,\n",
       "  <Movie id:3774114[http] title:_Snowden (2016)_>,\n",
       "  <Movie id:4054654[http] title:_Dog Eat Dog (I) (2016)_>,\n",
       "  <Movie id:3733774[http] title:_The Trust (2016)_>,\n",
       "  <Movie id:3733778[http] title:_Pay the Ghost (2015)_>,\n",
       "  <Movie id:3687398[http] title:_The Runner (I) (2015)_>,\n",
       "  <Movie id:1274586[http] title:_Dying of the Light (2014)_>,\n",
       "  <Movie id:2467046[http] title:_Left Behind (I) (2014)_>,\n",
       "  <Movie id:1552224[http] title:_Outcast (I) (2014)_>,\n",
       "  <Movie id:2401807[http] title:_Rage (2014)_>,\n",
       "  <Movie id:2382396[http] title:_Joe (I) (2013)_>,\n",
       "  <Movie id:0481499[http] title:_The Croods (2013)_>,\n",
       "  <Movie id:2005374[http] title:_The Frozen Ground (2013)_>,\n",
       "  <Movie id:1656186[http] title:_Stolen (2012)_>,\n",
       "  <Movie id:1071875[http] title:_Ghost Rider: Spirit of Vengeance (2011)_>,\n",
       "  <Movie id:1674784[http] title:_Trespass (2011)_>,\n",
       "  <Movie id:1214962[http] title:_Seeking Justice (2011)_>,\n",
       "  <Movie id:1502404[http] title:_Drive Angry (2011)_>,\n",
       "  <Movie id:0479997[http] title:_Season of the Witch (2011)_>,\n",
       "  <Movie id:0963966[http] title:_The Sorcerer's Apprentice (2010)_>,\n",
       "  <Movie id:1250777[http] title:_Kick-Ass (2010)_>,\n",
       "  <Movie id:0375568[http] title:_Astro Boy (2009)_>,\n",
       "  <Movie id:1095217[http] title:_Bad Lieutenant: Port of Call New Orleans (2009)_>,\n",
       "  <Movie id:0436339[http] title:_G-Force (2009)_>,\n",
       "  <Movie id:0448011[http] title:_Knowing (2009)_>,\n",
       "  <Movie id:0814022[http] title:_Bangkok Dangerous (2008)_>,\n",
       "  <Movie id:0465234[http] title:_National Treasure: Book of Secrets (2007)_>,\n",
       "  <Movie id:0435705[http] title:_Next (2007)_>,\n",
       "  <Movie id:12409886[http] title:_Werewolf Women of the S.S. (2007)_>,\n",
       "  <Movie id:0462322[http] title:_Grindhouse (2007)_>,\n",
       "  <Movie id:0259324[http] title:_Ghost Rider (2007)_>,\n",
       "  <Movie id:0450345[http] title:_The Wicker Man (2006)_>,\n",
       "  <Movie id:0469641[http] title:_World Trade Center (2006)_>,\n",
       "  <Movie id:0429589[http] title:_The Ant Bully (2006)_>,\n",
       "  <Movie id:0384680[http] title:_The Weather Man (2005)_>,\n",
       "  <Movie id:0399295[http] title:_Lord of War (2005)_>,\n",
       "  <Movie id:0368891[http] title:_National Treasure (2004)_>,\n",
       "  <Movie id:0325805[http] title:_Matchstick Men (2003)_>,\n",
       "  <Movie id:0268126[http] title:_Adaptation. (2002)_>,\n",
       "  <Movie id:0305973[http] title:_Sonny (2002)_>,\n",
       "  <Movie id:0245562[http] title:_Windtalkers (2002)_>,\n",
       "  <Movie id:0259929[http] title:_Christmas Carol: The Movie (2001)_>,\n",
       "  <Movie id:0238112[http] title:_Captain Corelli's Mandolin (2001)_>,\n",
       "  <Movie id:0218967[http] title:_The Family Man (2000)_>,\n",
       "  <Movie id:0187078[http] title:_Gone in 60 Seconds (2000)_>,\n",
       "  <Movie id:0163988[http] title:_Bringing Out the Dead (1999)_>,\n",
       "  <Movie id:0134273[http] title:_8MM (1999)_>,\n",
       "  <Movie id:0120832[http] title:_Snake Eyes (1998)_>,\n",
       "  <Movie id:0120632[http] title:_City of Angels (1998)_>,\n",
       "  <Movie id:0119094[http] title:_Face/Off (1997)_>,\n",
       "  <Movie id:0118880[http] title:_Con Air (1997)_>,\n",
       "  <Movie id:0117500[http] title:_The Rock (1996)_>,\n",
       "  <Movie id:0113627[http] title:_Leaving Las Vegas (1995)_>,\n",
       "  <Movie id:0113552[http] title:_Kiss of Death (1995)_>,\n",
       "  <Movie id:0111477[http] title:_Trapped in Paradise (1994)_>,\n",
       "  <Movie id:0110167[http] title:_It Could Happen to You (1994)_>,\n",
       "  <Movie id:0109951[http] title:_Guarding Tess (1994)_>,\n",
       "  <Movie id:0106684[http] title:_Deadfall (1993)_>,\n",
       "  <Movie id:0105226[http] title:_Red Rock West (1993)_>,\n",
       "  <Movie id:0106266[http] title:_Amos & Andrew (1993)_>,\n",
       "  <Movie id:0104438[http] title:_Honeymoon in Vegas (1992)_>,\n",
       "  <Movie id:0101004[http] title:_Zandalee (1991)_>,\n",
       "  <Movie id:0099844[http] title:_Industrial Symphony No. 1: The Dream of the Brokenhearted (1990) (TV)_>,\n",
       "  <Movie id:0099575[http] title:_Fire Birds (1990)_>,\n",
       "  <Movie id:0100935[http] title:_Wild at Heart (1990)_>,\n",
       "  <Movie id:0100762[http] title:_Time to Kill (1989)_>,\n",
       "  <Movie id:0095722[http] title:_Never on Tuesday (1988)_>,\n",
       "  <Movie id:0098577[http] title:_Vampire's Kiss (1988)_>,\n",
       "  <Movie id:0093565[http] title:_Moonstruck (1987)_>,\n",
       "  <Movie id:0093822[http] title:_Raising Arizona (1987)_>,\n",
       "  <Movie id:0091738[http] title:_Peggy Sue Got Married (1986)_>,\n",
       "  <Movie id:0090769[http] title:_The Boy in Blue (1986)_>,\n",
       "  <Movie id:0086969[http] title:_Birdy (1984)_>,\n",
       "  <Movie id:0087089[http] title:_The Cotton Club (1984)_>,\n",
       "  <Movie id:0087968[http] title:_Racing with the Moon (1984)_>,\n",
       "  <Movie id:0086216[http] title:_Rumble Fish (1983)_>,\n",
       "  <Movie id:0086525[http] title:_Valley Girl (1983)_>,\n",
       "  <Movie id:0083929[http] title:_Fast Times at Ridgemont High (1982)_>,\n",
       "  <Movie id:0082064[http] title:_The Best of Times (1981) (TV)_>],\n",
       " 'producer': [<Movie id:11291274[http] title:_The Unbearable Weight of Massive Talent (2022)_>,\n",
       "  <Movie id:11003218[http] title:_Pig (I) (2021)_>,\n",
       "  <Movie id:8114980[http] title:_Willy's Wonderland (2021)_>,\n",
       "  <Movie id:3758162[http] title:_A Score to Settle (2019)_>,\n",
       "  <Movie id:5460530[http] title:_Vengeance: A Love Story (2017)_>,\n",
       "  <Movie id:1610013[http] title:_Can't Stand Losing You: Surviving the Police (2012)_>,\n",
       "  <Movie id:0763831[http] title:_A Thousand Words (I) (2012)_>,\n",
       "  <Movie id:0963966[http] title:_The Sorcerer's Apprentice (2010)_>,\n",
       "  <Movie id:0814022[http] title:_Bangkok Dangerous (2008)_>,\n",
       "  <Movie id:0435705[http] title:_Next (2007)_>,\n",
       "  <Movie id:0486657[http] title:_\"The Dresden Files\" (2007)_>,\n",
       "  <Movie id:0450345[http] title:_The Wicker Man (2006)_>,\n",
       "  <Movie id:0399295[http] title:_Lord of War (2005)_>,\n",
       "  <Movie id:0289992[http] title:_The Life of David Gale (2003)_>,\n",
       "  <Movie id:0305973[http] title:_Sonny (2002)_>,\n",
       "  <Movie id:0189998[http] title:_Shadow of the Vampire (2000)_>,\n",
       "  <Movie id:0221823[http] title:_Bel Air (2000)_>],\n",
       " 'director': [<Movie id:0305973[http] title:_Sonny (2002)_>],\n",
       " 'soundtrack': [<Movie id:5462326[http] title:_Mom and Dad (2017)_>,\n",
       "  <Movie id:0268126[http] title:_Adaptation. (2002)_>,\n",
       "  <Movie id:0238112[http] title:_Captain Corelli's Mandolin (2001)_>,\n",
       "  <Movie id:0218967[http] title:_The Family Man (2000)_>,\n",
       "  <Movie id:0113627[http] title:_Leaving Las Vegas (1995)_>,\n",
       "  <Movie id:0100935[http] title:_Wild at Heart (1990)_>,\n",
       "  <Movie id:0091738[http] title:_Peggy Sue Got Married (1986)_>,\n",
       "  <Movie id:0087968[http] title:_Racing with the Moon (1984)_>],\n",
       " 'thanks': [<Movie id:2993842[http] title:_The Groundsman (2013)_>,\n",
       "  <Movie id:1774269[http] title:_A Backyard Story (2010)_>,\n",
       "  <Movie id:1343396[http] title:_Renegade Live @ the House of Blues (2009)_>,\n",
       "  <Movie id:0118141[http] title:_What Is It? (2005)_>,\n",
       "  <Movie id:0907857[http] title:_Love, Death, Elvis & Oz: The Making of 'Wild at Heart' (2004)_>,\n",
       "  <Movie id:0907867[http] title:_Specific Spontaneity: Focus on Lynch (2004)_>,\n",
       "  <Movie id:0390573[http] title:_Tricks of the Trade: Making 'Matchstick Men' (2004)_>,\n",
       "  <Movie id:0372592[http] title:_Valley Girl: 20 Totally Tubular Years Later (2003)_>,\n",
       "  <Movie id:0372593[http] title:_Valley Girl: In Conversation - Nicolas Cage and Martha Coolidge (2003)_>,\n",
       "  <Movie id:0368711[http] title:_End of the Century (2003)_>],\n",
       " 'self': [<Movie id:9022950[http] title:_\"The Kelly Clarkson Show\" (2022)_>,\n",
       "  <Movie id:1973047[http] title:_\"Dish Nation\" (2022)_>,\n",
       "  <Movie id:8596744[http] title:_\"IMDb on the Scene - Interviews\" (2022)_>,\n",
       "  <Movie id:4280606[http] title:_\"The Late Late Show with James Corden\" (2022)_>,\n",
       "  <Movie id:0320037[http] title:_\"Jimmy Kimmel Live! (2010-2022)\" (None)_>,\n",
       "  <Movie id:0081857[http] title:_\"Entertainment Tonight (1990-2022)\" (None)_>,\n",
       "  <Movie id:0167515[http] title:_\"Access Hollywood\" (2022)_>,\n",
       "  <Movie id:19243868[http] title:_The 5th Annual HCA Film Awards (2022)_>,\n",
       "  <Movie id:15046058[http] title:_\"The Roles That Changed My Life\" (2021)_>,\n",
       "  <Movie id:8638066[http] title:_\"Hollywood Insider (2020-2021)\" (None)_>,\n",
       "  <Movie id:16220616[http] title:_Success Formula (2021)_>,\n",
       "  <Movie id:13617060[http] title:_History of Swear Words (2021)_>,\n",
       "  <Movie id:11701952[http] title:_35th Film Independent Spirit Awards (2020)_>,\n",
       "  <Movie id:10188824[http] title:_Spider-Man: Into the Spider-Verse - The Ultimate Comics Cast (2019)_>,\n",
       "  <Movie id:9351746[http] title:_Love, Antosha (2019)_>,\n",
       "  <Movie id:0390699[http] title:_\"Días de cine (2009-2018)\" (None)_>,\n",
       "  <Movie id:9135206[http] title:_Sitges - 51 Festival Internacional de Cinema Fantàstic de Catalunya (2018)_>,\n",
       "  <Movie id:6763730[http] title:_Becoming Iconic (2018)_>,\n",
       "  <Movie id:9029006[http] title:_\"Iconic Characters\" (2018)_>,\n",
       "  <Movie id:0247094[http] title:_\"Extra with Billy Bush (2014-2018)\" (None)_>,\n",
       "  <Movie id:13614302[http] title:_Dog Eat Dog: Beyond Fest Q&A with Director Paul Schrader and Actor Nicolas Cage (2016)_>,\n",
       "  <Movie id:13619938[http] title:_Dog Eat Dog: Nicolas Cage Video Introduction (2016)_>,\n",
       "  <Movie id:4264964[http] title:_\"Evening Urgant\" (2016)_>,\n",
       "  <Movie id:2154554[http] title:_Kulturjournal (2016)_>,\n",
       "  <Movie id:0430836[http] title:_\"The Insider\" (2016)_>,\n",
       "  <Movie id:5735602[http] title:_\"Le journal du Festival\" (2016)_>,\n",
       "  <Movie id:3503424[http] title:_\"Celebrity Page\" (2015)_>,\n",
       "  <Movie id:6260128[http] title:_Behind the Scenes: Dying of the Light (2015)_>,\n",
       "  <Movie id:3861442[http] title:_SXSW Flashback 2014 (2014)_>,\n",
       "  <Movie id:0096636[http] title:_\"Live with Kelly and Ryan (2004-2014)\" (None)_>,\n",
       "  <Movie id:0911896[http] title:_\"Made in Hollywood (2010-2014)\" (None)_>,\n",
       "  <Movie id:0072506[http] title:_\"Good Morning America\" (2014)_>,\n",
       "  <Movie id:3444938[http] title:_\"The Tonight Show Starring Jimmy Fallon\" (2014)_>,\n",
       "  <Movie id:3138790[http] title:_Superheroes: From Page to Screen (2013)_>,\n",
       "  <Movie id:0181261[http] title:_\"This Morning\" (2013)_>,\n",
       "  <Movie id:0379623[http] title:_\"The Ellen DeGeneres Show\" (2013)_>,\n",
       "  <Movie id:0197153[http] title:_\"Good Day L.A.\" (2013)_>,\n",
       "  <Movie id:3110888[http] title:_\"Vivir de cine\" (2013)_>,\n",
       "  <Movie id:1231460[http] title:_\"Late Night with Jimmy Fallon (2010-2013)\" (None)_>,\n",
       "  <Movie id:5461714[http] title:_Stolen: Behind the Scenes (2013)_>,\n",
       "  <Movie id:5461704[http] title:_Stolen: Cast and Crew Interviews (2013)_>,\n",
       "  <Movie id:5461686[http] title:_The Making of 'Stolen' (2013)_>,\n",
       "  <Movie id:1489335[http] title:_\"ES.TV HD (2011-2012)\" (None)_>,\n",
       "  <Movie id:5442350[http] title:_The Making of 'Seeking Justice' (2012)_>,\n",
       "  <Movie id:5280288[http] title:_The Path to Vengeance: Making 'Ghost Rider, Spirit of Vengeance' (2012)_>,\n",
       "  <Movie id:2256961[http] title:_\"Bambule - Das Magazin\" (2012)_>,\n",
       "  <Movie id:0428108[http] title:_Entertainers with Byron Allen (2012)_>,\n",
       "  <Movie id:0498878[http] title:_\"Attack of the Show! (2011-2012)\" (None)_>,\n",
       "  <Movie id:1907886[http] title:_\"Big Morning Buzz Live\" (2012)_>,\n",
       "  <Movie id:1434322[http] title:_\"Up Close with Carrie Keagan (2009-2012)\" (None)_>,\n",
       "  <Movie id:0072562[http] title:_\"Saturday Night Live (1992-2012)\" (None)_>,\n",
       "  <Movie id:0106053[http] title:_\"Late Show with David Letterman (1995-2012)\" (None)_>,\n",
       "  <Movie id:5485570[http] title:_Trespass: Inside the Thriller (2011)_>,\n",
       "  <Movie id:2177699[http] title:_Scream Awards 2011 (2011)_>,\n",
       "  <Movie id:14032708[http] title:_The Making of - Season of the Witch (2011)_>,\n",
       "  <Movie id:1612376[http] title:_\"Janela Indiscreta (2010-2011)\" (None)_>,\n",
       "  <Movie id:1799915[http] title:_\"Jump Start Live\" (2011)_>,\n",
       "  <Movie id:2132638[http] title:_\"Close Up\" (2011)_>,\n",
       "  <Movie id:1091863[http] title:_With Great Power: The Stan Lee Story (2010)_>,\n",
       "  <Movie id:1489432[http] title:_\"Lopez Tonight\" (2010)_>,\n",
       "  <Movie id:1618221[http] title:_\"Mark at the Movies\" (2010)_>,\n",
       "  <Movie id:0437729[http] title:_\"The Late Late Show with Craig Ferguson\" (2010)_>,\n",
       "  <Movie id:1400986[http] title:_\"The Rotten Tomatoes Show\" (2010)_>,\n",
       "  <Movie id:2646218[http] title:_Was ich bin sind meine Filme - Teil 2... nach 30 Jahren (2010)_>,\n",
       "  <Movie id:0103569[http] title:_\"The Tonight Show with Jay Leno (1992-2010)\" (None)_>,\n",
       "  <Movie id:0421288[http] title:_\"At the Movies\" (2009)_>,\n",
       "  <Movie id:1332048[http] title:_Making of... (2009)_>,\n",
       "  <Movie id:0426701[http] title:_Le grand journal de Canal+ (2009)_>,\n",
       "  <Movie id:1297644[http] title:_\"The Movie Loft\" (2009)_>,\n",
       "  <Movie id:0224861[http] title:_The Directors (2008)_>,\n",
       "  <Movie id:1334557[http] title:_Samuel L. Jackson: An American Cinematheque Tribute (2008)_>,\n",
       "  <Movie id:0106052[http] title:_\"Late Night with Conan O'Brien (2007-2008)\" (None)_>,\n",
       "  <Movie id:1314813[http] title:_NT2: Set in History (2008)_>,\n",
       "  <Movie id:5340248[http] title:_Knights of the Golden Circle (2008)_>,\n",
       "  <Movie id:1314805[http] title:_NT2: Crafting the Presidents' Book (2008)_>,\n",
       "  <Movie id:1314806[http] title:_NT2: Creating the London Chase (2008)_>,\n",
       "  <Movie id:1314807[http] title:_NT2: Evolution of a Golden City (2008)_>,\n",
       "  <Movie id:1314808[http] title:_NT2: Inside the Library of Congress (2008)_>,\n",
       "  <Movie id:1314809[http] title:_NT2: On Location (2008)_>,\n",
       "  <Movie id:1314812[http] title:_NT2: Secrets of a Sequel (2008)_>,\n",
       "  <Movie id:1314814[http] title:_NT2: Underground Action (2008)_>,\n",
       "  <Movie id:0420393[http] title:_\"Eigo de shabera-night\" (2008)_>,\n",
       "  <Movie id:0081961[http] title:_\"Wetten, dass..?\" (2007)_>,\n",
       "  <Movie id:1142845[http] title:_Making the Best Next Thing (2007)_>,\n",
       "  <Movie id:5338564[http] title:_The 'Next' Grand Idea (2007)_>,\n",
       "  <Movie id:0872065[http] title:_\"Weekend Sunrise\" (2007)_>,\n",
       "  <Movie id:5688632[http] title:_Blazing Trails: The Making of 'Ghost Rider' (2007)_>,\n",
       "  <Movie id:5688754[http] title:_Ghost Rider: Comic-Con 2006 (2007)_>,\n",
       "  <Movie id:5280244[http] title:_Spirit of Vengeance: The Making of 'Ghost Rider' (2007)_>,\n",
       "  <Movie id:0305109[http] title:_\"Smap×Smap\" (2007)_>,\n",
       "  <Movie id:0315677[http] title:_HypaSpace (2006-2007) (None)_>,\n",
       "  <Movie id:0966569[http] title:_Ghost Rider: Inside the Action (2007) (TV)_>,\n",
       "  <Movie id:0463397[http] title:_\"Corazón de... (2006-2007)\" (None)_>,\n",
       "  <Movie id:0949829[http] title:_The Making of 'World Trade Center' (2006)_>,\n",
       "  <Movie id:1035508[http] title:_Visual and Special Effects (2006)_>,\n",
       "  <Movie id:1232381[http] title:_Movie Rush (2006)_>,\n",
       "  <Movie id:0270116[http] title:_\"Charlie Rose (2002-2006)\" (None)_>,\n",
       "  <Movie id:0805631[http] title:_Too Tough to Die: A Tribute to Johnny Ramone (2006)_>,\n",
       "  <Movie id:0778690[http] title:_Extended Outlook: The Script (2006)_>,\n",
       "  <Movie id:0778694[http] title:_Forecast: Becoming a Weatherman (2006)_>,\n",
       "  <Movie id:0778821[http] title:_Relative Humidity: The Characters (2006)_>,\n",
       "  <Movie id:0778774[http] title:_The Making of 'Lord of War' (2006)_>,\n",
       "  <Movie id:0475467[http] title:_\"El Magacine\" (2005)_>,\n",
       "  <Movie id:5340068[http] title:_National Treasure: On the Set of American History (2005)_>,\n",
       "  <Movie id:5340000[http] title:_To Steal a 'National Treasure' (2005)_>,\n",
       "  <Movie id:0468519[http] title:_'National Treasure' on Location (2005)_>,\n",
       "  <Movie id:0445772[http] title:_Tsunami Aid: A Concert of Hope (2005)_>,\n",
       "  <Movie id:0489239[http] title:_National Treasure Uncovered (2004) (TV)_>,\n",
       "  <Movie id:0222560[http] title:_\"GMTV\" (2004)_>,\n",
       "  <Movie id:0907857[http] title:_Love, Death, Elvis & Oz: The Making of 'Wild at Heart' (2004)_>,\n",
       "  <Movie id:0390776[http] title:_\"Shootout\" (2004)_>,\n",
       "  <Movie id:0407905[http] title:_John Travolta: The Inside Story (2004)_>,\n",
       "  <Movie id:0381851[http] title:_The 76th Annual Academy Awards (2004)_>,\n",
       "  <Movie id:0390573[http] title:_Tricks of the Trade: Making 'Matchstick Men' (2004)_>,\n",
       "  <Movie id:0395093[http] title:_The 61st Annual Golden Globe Awards (2004)_>,\n",
       "  <Movie id:0896232[http] title:_Intimate Portrait (1996-2003) (None)_>,\n",
       "  <Movie id:0376434[http] title:_\"Tinseltown TV\" (2003)_>,\n",
       "  <Movie id:0372592[http] title:_Valley Girl: 20 Totally Tubular Years Later (2003)_>,\n",
       "  <Movie id:0372593[http] title:_Valley Girl: In Conversation - Nicolas Cage and Martha Coolidge (2003)_>,\n",
       "  <Movie id:0370423[http] title:_The Code Talkers: A Secret Code of Honor (2003)_>,\n",
       "  <Movie id:5505282[http] title:_Windtalkers: Fly-on-the-Set Scene Diaries (2003)_>,\n",
       "  <Movie id:0346468[http] title:_The 75th Annual Academy Awards (2003)_>,\n",
       "  <Movie id:0358908[http] title:_9th Annual Screen Actors Guild Awards (2003)_>,\n",
       "  <Movie id:0169455[http] title:_\"Inside the Actors Studio\" (2003)_>,\n",
       "  <Movie id:0092322[http] title:_Biography (2003)_>,\n",
       "  <Movie id:0349057[http] title:_The 60th Annual Golden Globe Awards (2003)_>,\n",
       "  <Movie id:0446304[http] title:_The Cult: Music Without Fear (2002)_>,\n",
       "  <Movie id:1519189[http] title:_The Hollywood Machine (2002)_>,\n",
       "  <Movie id:0159879[http] title:_\"Howard Stern (1996-2002)\" (None)_>,\n",
       "  <Movie id:0324947[http] title:_2002 MTV Movie Awards (2002)_>,\n",
       "  <Movie id:0311292[http] title:_Hollywood Salutes Nicolas Cage: An American Cinematheque Tribute (2002)_>,\n",
       "  <Movie id:6781540[http] title:_Con Air: The Destruction of Las Vegas (2001)_>,\n",
       "  <Movie id:6781618[http] title:_Con Air: View from Above (2001)_>,\n",
       "  <Movie id:0366625[http] title:_Spaghetti Requiem (2001)_>,\n",
       "  <Movie id:0291699[http] title:_2001 ABC World Stunt Awards (2001)_>,\n",
       "  <Movie id:0290120[http] title:_2001 Blockbuster Entertainment Awards (2001)_>,\n",
       "  <Movie id:0280387[http] title:_The 73rd Annual Academy Awards (2001)_>,\n",
       "  <Movie id:1524291[http] title:_\"Jet 7\" (2001)_>,\n",
       "  <Movie id:5285568[http] title:_Gone in 60 Seconds: Stars on the Move (2000)_>,\n",
       "  <Movie id:5285622[http] title:_Gone in 60 Seconds: Wild Rides (2000)_>,\n",
       "  <Movie id:0278884[http] title:_2000 MTV Movie Awards (2000)_>,\n",
       "  <Movie id:0790397[http] title:_VH-1 Where Are They Now? (2000)_>,\n",
       "  <Movie id:0343328[http] title:_2000 Blockbuster Entertainment Awards (2000)_>,\n",
       "  <Movie id:13600408[http] title:_Bringing Out the Dead: Production Featurette (2000)_>,\n",
       "  <Movie id:9520442[http] title:_The Making of '8MM' (1999)_>,\n",
       "  <Movie id:3517762[http] title:_Making of Bringing Out the Dead (1999)_>,\n",
       "  <Movie id:1715313[http] title:_1999 Blockbuster Entertainment Awards (1999)_>,\n",
       "  <Movie id:0266221[http] title:_The 71st Annual Academy Awards (1999)_>,\n",
       "  <Movie id:0318220[http] title:_HBO First Look (1999)_>,\n",
       "  <Movie id:0433591[http] title:_Making Angels (1998)_>,\n",
       "  <Movie id:10970798[http] title:_The Battle of the Bonds (1998)_>,\n",
       "  <Movie id:0311376[http] title:_Junket Whore (1998)_>,\n",
       "  <Movie id:1715312[http] title:_1998 Blockbuster Entertainment Awards (1998)_>,\n",
       "  <Movie id:0773260[http] title:_Bravo Profiles: The Entertainment Business (1998)_>,\n",
       "  <Movie id:0240887[http] title:_Sean Connery: An Intimate Portrait (1997)_>,\n",
       "  <Movie id:0316559[http] title:_Sean Connery Close Up (1997)_>,\n",
       "  <Movie id:0292870[http] title:_\"Wild On...\" (1997)_>,\n",
       "  <Movie id:2042756[http] title:_\"Alta Voltagem\" (1997)_>,\n",
       "  <Movie id:0297693[http] title:_The 69th Annual Academy Awards (1997)_>,\n",
       "  <Movie id:0397232[http] title:_3rd Annual Screen Actors Guild Awards (1997)_>,\n",
       "  <Movie id:1800384[http] title:_54th Golden Globe Awards (1997)_>,\n",
       "  <Movie id:0238425[http] title:_Most Unlikely Heroes (1996)_>,\n",
       "  <Movie id:5424096[http] title:_The Rock Premiere on Alcatraz (1996)_>,\n",
       "  <Movie id:11281262[http] title:_Very Important Pennis: Uncut (1996)_>,\n",
       "  <Movie id:0246354[http] title:_\"Very Important Pennis\" (1996)_>,\n",
       "  <Movie id:0483221[http] title:_\"Mundo VIP\" (1996)_>,\n",
       "  <Movie id:0854163[http] title:_Shirley MacLaine: Kicking Up Her Heels (1996)_>,\n",
       "  <Movie id:15441582[http] title:_\"AFI Life Achievement Award\" (1996)_>,\n",
       "  <Movie id:0283830[http] title:_The 68th Annual Academy Awards (1996)_>,\n",
       "  <Movie id:14662442[http] title:_The 11th IFP/West Annual Independent Spirit Awards (1996)_>,\n",
       "  <Movie id:0461452[http] title:_2nd Annual Screen Actors Guild Awards (1996)_>,\n",
       "  <Movie id:1800745[http] title:_53rd Annual Golden Globe Awards (1996)_>,\n",
       "  <Movie id:0109390[http] title:_A Century of Cinema (1994)_>,\n",
       "  <Movie id:3696140[http] title:_Hollywood Waterloo (1994)_>,\n",
       "  <Movie id:0796267[http] title:_\"Hi Octane\" (1994)_>,\n",
       "  <Movie id:0355070[http] title:_\"CBS This Morning\" (1994)_>,\n",
       "  <Movie id:0044298[http] title:_\"Today (1984-1994)\" (None)_>,\n",
       "  <Movie id:0295842[http] title:_The 66th Annual Academy Awards (1994)_>,\n",
       "  <Movie id:1800744[http] title:_The 50th Annual Golden Globe Awards (1993)_>,\n",
       "  <Movie id:0103565[http] title:_\"Friday Night\" (1992)_>,\n",
       "  <Movie id:0205167[http] title:_Jonathan Ross Presents for One Week Only: David Lynch (1990)_>,\n",
       "  <Movie id:0169515[http] title:_\"The Word\" (1990)_>,\n",
       "  <Movie id:0083504[http] title:_\"Wogan\" (1990)_>,\n",
       "  <Movie id:6581590[http] title:_\"Cannes Film Festival\" (1990)_>,\n",
       "  <Movie id:0843412[http] title:_\"Fantastico 10\" (1989)_>,\n",
       "  <Movie id:0096537[http] title:_\"The Arsenio Hall Show\" (1989)_>,\n",
       "  <Movie id:0353139[http] title:_The 60th Annual Academy Awards (1988)_>,\n",
       "  <Movie id:1799582[http] title:_The 45th Annual Golden Globe Awards (1988)_>,\n",
       "  <Movie id:0063894[http] title:_\"The Dick Cavett Show\" (1986)_>,\n",
       "  <Movie id:0090419[http] title:_\"The Dick Cavett Show\" (1986)_>],\n",
       " 'archive footage': [<Movie id:13891626[http] title:_Hollywood Celebrity () (None)_>,\n",
       "  <Movie id:13328082[http] title:_\"Amanda the Jedi Show\" (2022)_>,\n",
       "  <Movie id:1973047[http] title:_\"Dish Nation (2021-2022)\" (None)_>,\n",
       "  <Movie id:19268814[http] title:_420 Awards - 4th Annual Event (2022)_>,\n",
       "  <Movie id:19781882[http] title:_\"Letterman\" (2022)_>,\n",
       "  <Movie id:18094728[http] title:_Johnny vs Amber (2021)_>,\n",
       "  <Movie id:14187978[http] title:_\"Bad Music Video Theatre\" (2021)_>,\n",
       "  <Movie id:15701326[http] title:_Ah My Goddess: Bad Goddess Touched by an Angel (2021)_>,\n",
       "  <Movie id:12132978[http] title:_\"Tfor2: the Terminator 2 Show\" (2021)_>,\n",
       "  <Movie id:0081857[http] title:_\"Entertainment Tonight (2013-2021)\" (None)_>,\n",
       "  <Movie id:15721690[http] title:_How did Jean Claude Van Damme Change Our Life (2020)_>,\n",
       "  <Movie id:0247094[http] title:_\"Extra with Billy Bush (2016-2019)\" (None)_>,\n",
       "  <Movie id:10011412[http] title:_You Don't Nomi (2019)_>,\n",
       "  <Movie id:3503424[http] title:_\"Celebrity Page\" (2017)_>,\n",
       "  <Movie id:6760434[http] title:_Becoming the Character (2017)_>,\n",
       "  <Movie id:6047728[http] title:_The Cars That Made Britain Great (2016)_>,\n",
       "  <Movie id:5885372[http] title:_SLG Shot (2016)_>,\n",
       "  <Movie id:4416750[http] title:_\"Welcome to the Basement (2013-2016)\" (None)_>,\n",
       "  <Movie id:4031218[http] title:_\"Death Battle\" (2015)_>,\n",
       "  <Movie id:2753778[http] title:_The Death of Superman Lives: What Happened? (2015)_>,\n",
       "  <Movie id:4528870[http] title:_\"Wogan: The Best Of\" (2015)_>,\n",
       "  <Movie id:0166442[http] title:_Inside Edition (2014)_>,\n",
       "  <Movie id:5720718[http] title:_\"Leet Fighters (2012-2014)\" (None)_>,\n",
       "  <Movie id:1635327[http] title:_\"Nostalgia Critic\" (2014)_>,\n",
       "  <Movie id:3481232[http] title:_And the Oscar Goes to... (2014)_>,\n",
       "  <Movie id:2243299[http] title:_Final Cut: Ladies and Gentlemen (2012)_>,\n",
       "  <Movie id:2124782[http] title:_Elvis Found Alive (2012)_>,\n",
       "  <Movie id:1899280[http] title:_Saturday Night Live Backstage (2011)_>,\n",
       "  <Movie id:0178131[http] title:_\"Comedy Lab\" (2010)_>,\n",
       "  <Movie id:0899126[http] title:_\"The Tonight Show with Conan O'Brien\" (2009)_>,\n",
       "  <Movie id:1329485[http] title:_Del corto a Hollywood (2008)_>,\n",
       "  <Movie id:1183149[http] title:_Oscar, que empiece el espectáculo (2008)_>,\n",
       "  <Movie id:1157705[http] title:_Roman Polanski: Wanted and Desired (2008)_>,\n",
       "  <Movie id:1110051[http] title:_The Light and the Dark: The Making of 'Face/Off' (2007)_>,\n",
       "  <Movie id:1066444[http] title:_Horâ wo 666 bai tanoshiku miru hô'hô (2007)_>,\n",
       "  <Movie id:10534822[http] title:_Personnel et confidentiel (2007)_>,\n",
       "  <Movie id:0969243[http] title:_Cómo conseguir un papel en Hollywood (2007)_>,\n",
       "  <Movie id:0314994[http] title:_City Confidential (2007)_>,\n",
       "  <Movie id:0876536[http] title:_San Sebastián 2006: Crónica de Carlos Boyero (2006)_>,\n",
       "  <Movie id:0874992[http] title:_Premio Donostia a Matt Dillon (2006)_>,\n",
       "  <Movie id:0830881[http] title:_The Curse of Superman (2006)_>,\n",
       "  <Movie id:0962751[http] title:_Ban the Sadist Videos! Part 2 (2006)_>,\n",
       "  <Movie id:10358892[http] title:_VH1 News Presents (2006)_>,\n",
       "  <Movie id:0495875[http] title:_On Location in Tulsa: The Making of 'Rumble Fish' (2005)_>,\n",
       "  <Movie id:0470644[http] title:_Cinema mil (2005)_>,\n",
       "  <Movie id:0426657[http] title:_\"Bully & Rick\" (2004)_>,\n",
       "  <Movie id:15310842[http] title:_Racing with the Moon: The Story - The People (2004)_>,\n",
       "  <Movie id:0402720[http] title:_101 Biggest Celebrity Oops (2004)_>,\n",
       "  <Movie id:0385435[http] title:_\"Love Chain\" (2003)_>,\n",
       "  <Movie id:0403738[http] title:_\"Celebrities Uncensored\" (2003)_>,\n",
       "  <Movie id:0463399[http] title:_E! True Hollywood Story (2003)_>,\n",
       "  <Movie id:0892644[http] title:_\"Sendung ohne Namen\" (2002)_>,\n",
       "  <Movie id:0320996[http] title:_Twentieth Century Fox: The Blockbuster Years (2000)_>,\n",
       "  <Movie id:0092322[http] title:_Biography (1999)_>,\n",
       "  <Movie id:0179624[http] title:_100 Years at the Movies (1994)_>,\n",
       "  <Movie id:0090523[http] title:_\"At the Movies\" (1990)_>,\n",
       "  <Movie id:0055708[http] title:_\"The Tonight Show Starring Johnny Carson\" (1988)_>,\n",
       "  <Movie id:0331410[http] title:_The 59th Annual Academy Awards (1987)_>]}"
      ]
     },
     "execution_count": 13,
     "metadata": {},
     "output_type": "execute_result"
    }
   ],
   "source": [
    "nic_cage[\"filmography\"]"
   ]
  },
  {
   "cell_type": "code",
   "execution_count": 14,
   "metadata": {},
   "outputs": [],
   "source": [
    "cage_movies = nic_cage['filmography']['actor']"
   ]
  },
  {
   "cell_type": "markdown",
   "metadata": {},
   "source": [
    " <h2><font color=\"blue\">Main Dataframe</font></h2>"
   ]
  },
  {
   "cell_type": "code",
   "execution_count": 15,
   "metadata": {},
   "outputs": [],
   "source": [
    "df = pd.DataFrame({\n",
    "    'title': [],\n",
    "    'rating': [],\n",
    "    'genres': [],\n",
    "    'votes': [],\n",
    "    'languages': [],\n",
    "    'runtimes': [],\n",
    "    'countries': [],\n",
    "    'plot outline': [],\n",
    "    'director': [],\n",
    "    'year': [],\n",
    "    'writer': [],\n",
    "    'producer': [],\n",
    "    'composer': [],\n",
    "    'cinematographer': [],\n",
    "    'editor': [],\n",
    "    'editorial department': [],\n",
    "    'casting director': [],\n",
    "    'art direction': [],\n",
    "    'costume designer': [],\n",
    "    'make up': [],\n",
    "    'production manager': [],\n",
    "    'assistant director': [],\n",
    "    'art department': [],\n",
    "    'sound crew': [],\n",
    "    'special effects': [],\n",
    "    'visual effects': [],\n",
    "    'stunt performer': [],\n",
    "    'production companies': [],\n",
    "    'distributors': [],\n",
    "    'special effects companies': [],\n",
    "    'other companies': [],\n",
    "})"
   ]
  },
  {
   "cell_type": "code",
   "execution_count": 16,
   "metadata": {},
   "outputs": [],
   "source": [
    "for x in cage_movies:\n",
    "    cage_movie = ia.get_movie(x.getID())  # get film from Movie ID \n",
    "    df = df.append({\n",
    "        'title': cage_movie.get(\"title\", \"\"),\n",
    "        'rating': cage_movie.get(\"rating\", np.nan),\n",
    "        'genres': \";\".join([str(x) for x in cage_movie.get(\"genres\", \"\")]),\n",
    "        'votes': cage_movie.get(\"votes\", 0),\n",
    "        'languages': \";\".join([str(x) for x in cage_movie.get(\"languages\", \"\")]),\n",
    "        'runtimes': cage_movie.get(\"runtimes\", [\"0\"])[0],\n",
    "        'countries': \";\".join([str(x) for x in cage_movie.get(\"countries\", \"\")]),\n",
    "        'plot outline': cage_movie.get(\"plot outline\", \"\"),\n",
    "        'director': \";\".join([str(x) for x in cage_movie.get(\"director\", \"\")]),\n",
    "        'original air date': cage_movie.get(\"original air date\", \"\"),\n",
    "        'year': cage_movie.get(\"year\"),\n",
    "        'writer': \";\".join([str(x) for x in cage_movie.get(\"writer\", \"\")]),\n",
    "        'producer': \";\".join([str(x) for x in cage_movie.get(\"producer\", \"\")]),\n",
    "        'composer': \";\".join([str(x) for x in cage_movie.get(\"composer\", \"\")]),\n",
    "        'cinematographer': \";\".join([str(x) for x in cage_movie.get(\"cinematographer\", \"\")]),\n",
    "        'editor': \";\".join([str(x) for x in cage_movie.get(\"editor\", \"\")]),\n",
    "        'editorial department': \";\".join([str(x) for x in cage_movie.get(\"editorial department\", \"\")]),\n",
    "        'casting director': \";\".join([str(x) for x in cage_movie.get(\"casting director\", \"\")]),\n",
    "        'art direction': \";\".join([str(x) for x in cage_movie.get(\"art direction\", \"\")]),\n",
    "        'costume designer': \";\".join([str(x) for x in cage_movie.get(\"costume designer\", \"\")]),\n",
    "        'make up': \";\".join([str(x) for x in cage_movie.get(\"make up\", \"\")]),\n",
    "        'production manager': \";\".join([str(x) for x in cage_movie.get(\"production manager\", \"\")]),\n",
    "        'assistant director': \";\".join([str(x) for x in cage_movie.get(\"assistant director\", \"\")]),\n",
    "        'art department': \";\".join([str(x) for x in cage_movie.get(\"art department\", \"\")]),\n",
    "        'sound crew': \";\".join([str(x) for x in cage_movie.get(\"sound crew\", \"\")]),\n",
    "        'special effects': \";\".join([str(x) for x in cage_movie.get(\"special effects\", \"\")]),\n",
    "        'visual effects': \";\".join([str(x) for x in cage_movie.get(\"visual effects\", \"\")]),\n",
    "        'stunt performer': \";\".join([str(x) for x in cage_movie.get(\"stunt performer\", \"\")]),\n",
    "        'production companies': \";\".join([str(x) for x in cage_movie.get(\"production companies\", \"\")]),\n",
    "        'distributors': \";\".join([str(x) for x in cage_movie.get(\"distributors\", \"\")]),\n",
    "        'special effects companies': \";\".join([str(x) for x in cage_movie.get(\"special effects companies\", \"\")]),\n",
    "        'other companies': \";\".join([str(x) for x in cage_movie.get(\"other companies\", \"\")]),\n",
    "    }, ignore_index=True)"
   ]
  },
  {
   "cell_type": "code",
   "execution_count": 17,
   "metadata": {},
   "outputs": [
    {
     "name": "stdout",
     "output_type": "stream",
     "text": [
      "                         title  rating                 genres  votes  \\\n",
      "0    Butcher's Crossing - IMDb     NaN          Drama;Western    0.0   \n",
      "1                     Renfield     NaN  Comedy;Fantasy;Horror    0.0   \n",
      "2                  The Old Way     NaN         Action;Western    0.0   \n",
      "3          The Retirement Plan     NaN          Action;Comedy    0.0   \n",
      "4  Untitled Joe Exotic Project     NaN        Biography;Drama    0.0   \n",
      "\n",
      "  languages runtimes      countries  \\\n",
      "0   English        0  United States   \n",
      "1   English        0  United States   \n",
      "2   English        0  United States   \n",
      "3                  0                  \n",
      "4   English        0  United States   \n",
      "\n",
      "                                        plot outline       director  year  \\\n",
      "0                                                       Gabe Polsky  None   \n",
      "1                                                       Chris McKay  2023   \n",
      "2                                                     Brett Donowho  2022   \n",
      "3  In The Retirement Plan, when Ashley (Ashley Gr...      Tim Brown  2022   \n",
      "4                                                                    None   \n",
      "\n",
      "   ...                                     art department  \\\n",
      "0  ...  Chris Canfield;Jeffrey W. Crow;Jeremiah Hornbaker   \n",
      "1  ...  Corey Belt;Daniel Coe;Chris Craine;Paulo DeFre...   \n",
      "2  ...  Jeffrey W. Crow;Adam S. Ford;Robert Valentine ...   \n",
      "3  ...  Kendra Clark;Spencer Sacht-Lund;Aidan Dalle Ve...   \n",
      "4  ...                                                      \n",
      "\n",
      "                                          sound crew  \\\n",
      "0                 Ryan Graham-Laughlin;Phillip Meyer   \n",
      "1                                        David Wyman   \n",
      "2  Iris Dutour;Aidan Dykes;Luke Kelley;Mitchell K...   \n",
      "3                        Marco Furgiuele;Reid Goobie   \n",
      "4                                                      \n",
      "\n",
      "                                     special effects  \\\n",
      "0                                                      \n",
      "1  Ty Abrahams;Elias Duhe Jr.;Lisa Kutcher;Matt K...   \n",
      "2                               Ted Gerwer;Ken Speed   \n",
      "3  Christina Savone Beninati;Fabrizio Beninati;Ma...   \n",
      "4                                                      \n",
      "\n",
      "                                      visual effects  \\\n",
      "0  Gayle Busby;Matt Hartle;George Loucas;Matthew ...   \n",
      "1                Matt Akey;Omar Nadir;Jordan Nounnan   \n",
      "2                                                      \n",
      "3                                      Prasanna Paul   \n",
      "4                                                      \n",
      "\n",
      "                                     stunt performer  \\\n",
      "0  Danny Edmo;Clarence Gilham;Jared Kaplan;Krista...   \n",
      "1  Deborah Arrieta;Morgan Benoit;Girvan 'Swirv' B...   \n",
      "2                                        Dale Gibson   \n",
      "3  Nick Alachiotis;Jon Ambrose;Vincent Bersoulle;...   \n",
      "4                                                      \n",
      "\n",
      "                                production companies  \\\n",
      "0  Altitude Film Entertainment;Conqueror Producti...   \n",
      "1          Skybound Entertainment;Universal Pictures   \n",
      "2  Intercut Capital;Saturn Films;Tri-Fold Picture...   \n",
      "3                    Darius Films;Productivity Media   \n",
      "4  Imagine Television;MAKE GOOD Content;CBS Telev...   \n",
      "\n",
      "                                        distributors  \\\n",
      "0  Altitude Film Entertainment;Altitude Film Ente...   \n",
      "1                                 Universal Pictures   \n",
      "2                                        Saban Films   \n",
      "3                                                      \n",
      "4                                                      \n",
      "\n",
      "  special effects companies  \\\n",
      "0                             \n",
      "1                     Proof   \n",
      "2                             \n",
      "3                             \n",
      "4                             \n",
      "\n",
      "                                     other companies  original air date  \n",
      "0  Artistry In Motion;Freeway CAM B.V.;IndieClear...                     \n",
      "1                                   Location Gourmet  14 Apr 2023 (USA)  \n",
      "2  Intercut Capital;Montana Video Production Rent...         2022 (USA)  \n",
      "3                                                            2022 (USA)  \n",
      "4                                                                        \n",
      "\n",
      "[5 rows x 32 columns]\n"
     ]
    }
   ],
   "source": [
    "print(df.head())"
   ]
  },
  {
   "cell_type": "code",
   "execution_count": 18,
   "metadata": {},
   "outputs": [],
   "source": [
    "df.to_csv(\"nic_cage.csv\", index=False)"
   ]
  },
  {
   "cell_type": "code",
   "execution_count": 19,
   "metadata": {},
   "outputs": [],
   "source": [
    "# Create a deep copy of df\n",
    "df_backup = df.copy(deep = True)"
   ]
  },
  {
   "cell_type": "code",
   "execution_count": 20,
   "metadata": {},
   "outputs": [
    {
     "name": "stdout",
     "output_type": "stream",
     "text": [
      "                         title  rating                 genres  votes  \\\n",
      "0    Butcher's Crossing - IMDb     NaN          Drama;Western    0.0   \n",
      "1                     Renfield     NaN  Comedy;Fantasy;Horror    0.0   \n",
      "2                  The Old Way     NaN         Action;Western    0.0   \n",
      "3          The Retirement Plan     NaN          Action;Comedy    0.0   \n",
      "4  Untitled Joe Exotic Project     NaN        Biography;Drama    0.0   \n",
      "\n",
      "  languages runtimes      countries  \\\n",
      "0   English        0  United States   \n",
      "1   English        0  United States   \n",
      "2   English        0  United States   \n",
      "3                  0                  \n",
      "4   English        0  United States   \n",
      "\n",
      "                                        plot outline       director  year  \\\n",
      "0                                                       Gabe Polsky  None   \n",
      "1                                                       Chris McKay  2023   \n",
      "2                                                     Brett Donowho  2022   \n",
      "3  In The Retirement Plan, when Ashley (Ashley Gr...      Tim Brown  2022   \n",
      "4                                                                    None   \n",
      "\n",
      "   ...                                     art department  \\\n",
      "0  ...  Chris Canfield;Jeffrey W. Crow;Jeremiah Hornbaker   \n",
      "1  ...  Corey Belt;Daniel Coe;Chris Craine;Paulo DeFre...   \n",
      "2  ...  Jeffrey W. Crow;Adam S. Ford;Robert Valentine ...   \n",
      "3  ...  Kendra Clark;Spencer Sacht-Lund;Aidan Dalle Ve...   \n",
      "4  ...                                                      \n",
      "\n",
      "                                          sound crew  \\\n",
      "0                 Ryan Graham-Laughlin;Phillip Meyer   \n",
      "1                                        David Wyman   \n",
      "2  Iris Dutour;Aidan Dykes;Luke Kelley;Mitchell K...   \n",
      "3                        Marco Furgiuele;Reid Goobie   \n",
      "4                                                      \n",
      "\n",
      "                                     special effects  \\\n",
      "0                                                      \n",
      "1  Ty Abrahams;Elias Duhe Jr.;Lisa Kutcher;Matt K...   \n",
      "2                               Ted Gerwer;Ken Speed   \n",
      "3  Christina Savone Beninati;Fabrizio Beninati;Ma...   \n",
      "4                                                      \n",
      "\n",
      "                                      visual effects  \\\n",
      "0  Gayle Busby;Matt Hartle;George Loucas;Matthew ...   \n",
      "1                Matt Akey;Omar Nadir;Jordan Nounnan   \n",
      "2                                                      \n",
      "3                                      Prasanna Paul   \n",
      "4                                                      \n",
      "\n",
      "                                     stunt performer  \\\n",
      "0  Danny Edmo;Clarence Gilham;Jared Kaplan;Krista...   \n",
      "1  Deborah Arrieta;Morgan Benoit;Girvan 'Swirv' B...   \n",
      "2                                        Dale Gibson   \n",
      "3  Nick Alachiotis;Jon Ambrose;Vincent Bersoulle;...   \n",
      "4                                                      \n",
      "\n",
      "                                production companies  \\\n",
      "0  Altitude Film Entertainment;Conqueror Producti...   \n",
      "1          Skybound Entertainment;Universal Pictures   \n",
      "2  Intercut Capital;Saturn Films;Tri-Fold Picture...   \n",
      "3                    Darius Films;Productivity Media   \n",
      "4  Imagine Television;MAKE GOOD Content;CBS Telev...   \n",
      "\n",
      "                                        distributors  \\\n",
      "0  Altitude Film Entertainment;Altitude Film Ente...   \n",
      "1                                 Universal Pictures   \n",
      "2                                        Saban Films   \n",
      "3                                                      \n",
      "4                                                      \n",
      "\n",
      "  special effects companies  \\\n",
      "0                             \n",
      "1                     Proof   \n",
      "2                             \n",
      "3                             \n",
      "4                             \n",
      "\n",
      "                                     other companies  original air date  \n",
      "0  Artistry In Motion;Freeway CAM B.V.;IndieClear...                     \n",
      "1                                   Location Gourmet  14 Apr 2023 (USA)  \n",
      "2  Intercut Capital;Montana Video Production Rent...         2022 (USA)  \n",
      "3                                                            2022 (USA)  \n",
      "4                                                                        \n",
      "\n",
      "[5 rows x 32 columns]\n",
      "(109, 32)\n"
     ]
    }
   ],
   "source": [
    "print(df.head())\n",
    "print(df.shape)"
   ]
  },
  {
   "cell_type": "markdown",
   "metadata": {},
   "source": [
    "<h1><font color=\"blue\">Finding unique genres</font></h1>"
   ]
  },
  {
   "cell_type": "code",
   "execution_count": 22,
   "metadata": {},
   "outputs": [
    {
     "name": "stdout",
     "output_type": "stream",
     "text": [
      "['Drama;Western', 'Comedy;Fantasy;Horror', 'Action;Western', 'Action;Comedy', 'Biography;Drama', 'Action;Comedy;Crime;Thriller', 'Drama;Mystery;Thriller', 'Action;Comedy;Horror;Thriller', 'Action;Fantasy;Sci-Fi;Thriller', 'Animation;Adventure;Comedy;Family;Fantasy', 'Action;Sci-Fi;Thriller', 'Thriller', 'Action;Thriller', 'Crime;Drama;Thriller', 'Horror;Mystery;Sci-Fi;Thriller', 'Animation;Action;Adventure;Comedy;Family;Fantasy;Sci-Fi', 'Fantasy;Thriller', 'Animation;Action;Adventure;Comedy;Family;Fantasy;Musical;Sci-Fi', 'Action;Crime;Drama', 'Mystery;Thriller', 'Action;Fantasy;Horror', 'Drama;Thriller', 'Sci-Fi;Thriller', 'Comedy;Horror;Thriller', 'Action;Crime;Thriller', 'Biography;Comedy', 'Action;Drama;History;Thriller;War', 'Biography;Crime;Drama;Thriller', 'Crime;Thriller', 'Horror;Mystery', 'Drama', 'Action;Drama;Thriller', 'Action;Adventure;Thriller', 'Crime;Drama', 'Action;Fantasy;Thriller', 'Action;Crime;Drama;Mystery;Thriller', 'Action;Adventure;Fantasy', 'Action;Adventure;Family;Fantasy', 'Action;Comedy;Crime', 'Animation;Action;Adventure;Comedy;Drama;Family;Fantasy;Sci-Fi', 'Action;Mystery;Sci-Fi;Thriller', 'Action;Adventure;Mystery;Thriller', 'Short;Comedy;Horror;War', 'Action;Horror;Thriller', 'Horror;Mystery;Thriller', 'Drama;History;Thriller', 'Comedy;Drama', 'Comedy;Crime;Drama;Thriller', 'Action;Drama;War', 'Animation;Family;Fantasy', 'Drama;Music;Romance;War', 'Comedy;Drama;Fantasy;Romance', 'Crime;Drama;Mystery;Thriller', 'Crime;Mystery;Thriller', 'Drama;Fantasy;Romance', 'Action;Crime;Sci-Fi;Thriller', 'Drama;Romance', 'Adventure;Comedy;Crime;Romance', 'Comedy;Drama;Romance', 'Comedy;Crime', 'Comedy;Romance;Thriller', 'Drama;Romance;Thriller', 'Drama;Fantasy;Music', 'Action;Adventure', 'Drama;War', 'Comedy;Crime;Fantasy;Horror', 'Biography;Drama;Sport', 'Crime;Drama;Music', 'Crime;Drama;Romance', 'Comedy;Romance', 'Comedy']\n"
     ]
    }
   ],
   "source": [
    "# Because 'genres' field contain multiple values, a histogram needs to be created of individual genres\n",
    "unique_genres = df[\"genres\"].unique().tolist()\n",
    "print(unique_genres)"
   ]
  },
  {
   "cell_type": "code",
   "execution_count": 23,
   "metadata": {},
   "outputs": [
    {
     "name": "stdout",
     "output_type": "stream",
     "text": [
      "{'Short', 'Comedy', 'Crime', 'Sport', 'Western', 'Musical', 'Sci-Fi', 'Drama', 'Thriller', 'Adventure', 'Biography', 'Animation', 'Romance', 'Fantasy', 'War', 'Action', 'Horror', 'Mystery', 'Family', 'Music', 'History'}\n",
      "21\n"
     ]
    }
   ],
   "source": [
    "lst_genres = []\n",
    "set_genres = set()\n",
    "for genre in unique_genres:\n",
    "    lst_temp = genre.split(\";\")\n",
    "    lst_genres.extend(lst_temp)\n",
    "set_genres = set(lst_genres)\n",
    "print(set_genres)\n",
    "print(len(set_genres))"
   ]
  },
  {
   "cell_type": "code",
   "execution_count": 24,
   "metadata": {},
   "outputs": [
    {
     "name": "stdout",
     "output_type": "stream",
     "text": [
      "Short 1\n",
      "Comedy 22\n",
      "Crime 18\n",
      "Sport 1\n",
      "Western 2\n",
      "Musical 1\n",
      "Sci-Fi 9\n",
      "Drama 29\n",
      "Thriller 33\n",
      "Adventure 10\n",
      "Biography 4\n",
      "Animation 5\n",
      "Romance 10\n",
      "Fantasy 16\n",
      "War 5\n",
      "Action 27\n",
      "Horror 10\n",
      "Mystery 10\n",
      "Family 6\n",
      "Music 3\n",
      "History 2\n"
     ]
    }
   ],
   "source": [
    "# Create a dictionary to hold histogram of genres\n",
    "dict_genres = dict()\n",
    "for genre in set_genres:\n",
    "    dict_genres[genre] = 0 # initializing dictionary to hold 0 instances for each genre\n",
    "for genre in lst_genres:\n",
    "    dict_genres[genre] += 1 \n",
    "for genre, num_instances in dict_genres.items():\n",
    "    print(genre, num_instances)"
   ]
  },
  {
   "cell_type": "code",
   "execution_count": 272,
   "metadata": {},
   "outputs": [
    {
     "data": {
      "image/png": "[encoded data removed]",
      "text/plain": [
       "<Figure size 1080x360 with 1 Axes>"
      ]
     },
     "metadata": {
      "needs_background": "light"
     },
     "output_type": "display_data"
    }
   ],
   "source": [
    "# Visualization 1\n",
    "# Horizontal bar plot of unique genres and # of movies per each one\n",
    "\n",
    "d_genres = list(dict_genres.keys())\n",
    "d_values = list(dict_genres.values())\n",
    "plt.rcParams['figure.figsize'] = [15, 5]\n",
    "plt.barh(range(len(dict_genres)), d_values, tick_label=d_genres)\n",
    "plt.xticks(rotation=0 )\n",
    "for index, value in enumerate(d_values):\n",
    "    plt.text(value, index,\n",
    "             str(value))\n",
    "plt.xlabel(\"# of movies\")\n",
    "plt.ylabel(\"movie genres\")\n",
    "plt.title(\"Horizontal Bar Chart of Movies Per Unique Genre\")\n",
    "plt.show()"
   ]
  },
  {
   "cell_type": "code",
   "execution_count": 26,
   "metadata": {},
   "outputs": [
    {
     "name": "stdout",
     "output_type": "stream",
     "text": [
      "<bound method NDFrame.head of                             title  rating                 genres     votes  \\\n",
      "0       Butcher's Crossing - IMDb     NaN          Drama;Western       0.0   \n",
      "1                        Renfield     NaN  Comedy;Fantasy;Horror       0.0   \n",
      "2                     The Old Way     NaN         Action;Western       0.0   \n",
      "3             The Retirement Plan     NaN          Action;Comedy       0.0   \n",
      "4     Untitled Joe Exotic Project     NaN        Biography;Drama       0.0   \n",
      "..                            ...     ...                    ...       ...   \n",
      "104          Racing with the Moon     6.7   Comedy;Drama;Romance    4585.0   \n",
      "105                   Rumble Fish     7.1    Crime;Drama;Romance   34306.0   \n",
      "106                   Valley Girl     6.4         Comedy;Romance   15277.0   \n",
      "107  Fast Times at Ridgemont High     7.1           Comedy;Drama  103612.0   \n",
      "108             The Best of Times     5.4                 Comedy     264.0   \n",
      "\n",
      "    languages runtimes      countries  \\\n",
      "0     English        0  United States   \n",
      "1     English        0  United States   \n",
      "2     English        0  United States   \n",
      "3                    0                  \n",
      "4     English        0  United States   \n",
      "..        ...      ...            ...   \n",
      "104   English      108  United States   \n",
      "105   English       94  United States   \n",
      "106   English       99  United States   \n",
      "107   English       90  United States   \n",
      "108   English       60  United States   \n",
      "\n",
      "                                          plot outline              director  \\\n",
      "0                                                                Gabe Polsky   \n",
      "1                                                                Chris McKay   \n",
      "2                                                              Brett Donowho   \n",
      "3    In The Retirement Plan, when Ashley (Ashley Gr...             Tim Brown   \n",
      "4                                                                              \n",
      "..                                                 ...                   ...   \n",
      "104  Henry and Nicky are small town pals from blue ...      Richard Benjamin   \n",
      "105  Rusty James is the leader of a small, dying ga...  Francis Ford Coppola   \n",
      "106  Julie, a girl from the valley, meets Randy, a ...       Martha Coolidge   \n",
      "107  Follows a group of high school students growin...        Amy Heckerling   \n",
      "108  This ABC pilot starred 7 teenagers in a 80's s...           Don Mischer   \n",
      "\n",
      "     year  ...                                         sound crew  \\\n",
      "0    None  ...                 Ryan Graham-Laughlin;Phillip Meyer   \n",
      "1    2023  ...                                        David Wyman   \n",
      "2    2022  ...  Iris Dutour;Aidan Dykes;Luke Kelley;Mitchell K...   \n",
      "3    2022  ...                        Marco Furgiuele;Reid Goobie   \n",
      "4    None  ...                                                      \n",
      "..    ...  ...                                                ...   \n",
      "104  1984  ...  Chris Carpenter;Doreen A. Dixon;Dody Dorn;Denn...   \n",
      "105  1983  ...  C.J. Appel;James Austin;Richard Beggs;Tom Bell...   \n",
      "106  1983  ...  Gary Alexander;Beau Biggart;Bob Biggart;David ...   \n",
      "107  1982  ...  Phil Flad;Roger Heman Jr.;Dennis Jones;Anthony...   \n",
      "108  1981  ...                                                      \n",
      "\n",
      "                                       special effects  \\\n",
      "0                                                        \n",
      "1    Ty Abrahams;Elias Duhe Jr.;Lisa Kutcher;Matt K...   \n",
      "2                                 Ted Gerwer;Ken Speed   \n",
      "3    Christina Savone Beninati;Fabrizio Beninati;Ma...   \n",
      "4                                                        \n",
      "..                                                 ...   \n",
      "104                                    Garry Elmendorf   \n",
      "105  Martin Bresin;Dennis Dion;David Marconi;Robert...   \n",
      "106                                                      \n",
      "107             Greg C. Jensen Sr.;Bruno Van Zeebroeck   \n",
      "108                                                      \n",
      "\n",
      "                                        visual effects  \\\n",
      "0    Gayle Busby;Matt Hartle;George Loucas;Matthew ...   \n",
      "1                  Matt Akey;Omar Nadir;Jordan Nounnan   \n",
      "2                                                        \n",
      "3                                        Prasanna Paul   \n",
      "4                                                        \n",
      "..                                                 ...   \n",
      "104                                                      \n",
      "105     Martin Bresin;Bill Hansard Jr.;Robert Spurlock   \n",
      "106                                                      \n",
      "107                                                      \n",
      "108                                                      \n",
      "\n",
      "                                       stunt performer  \\\n",
      "0    Danny Edmo;Clarence Gilham;Jared Kaplan;Krista...   \n",
      "1    Deborah Arrieta;Morgan Benoit;Girvan 'Swirv' B...   \n",
      "2                                          Dale Gibson   \n",
      "3    Nick Alachiotis;Jon Ambrose;Vincent Bersoulle;...   \n",
      "4                                                        \n",
      "..                                                 ...   \n",
      "104  Richard L. Calkins;Pat Green;Steven Lambert;Mi...   \n",
      "105  Tim A. Davison;Freddie Hice;Billy Hank Hooker;...   \n",
      "106                             Don Camp;Myke Michaels   \n",
      "107  Richard E. Butler;David R. Ellis;Mickey Gilber...   \n",
      "108                                                      \n",
      "\n",
      "                                  production companies  \\\n",
      "0    Altitude Film Entertainment;Conqueror Producti...   \n",
      "1            Skybound Entertainment;Universal Pictures   \n",
      "2    Intercut Capital;Saturn Films;Tri-Fold Picture...   \n",
      "3                      Darius Films;Productivity Media   \n",
      "4    Imagine Television;MAKE GOOD Content;CBS Telev...   \n",
      "..                                                 ...   \n",
      "104                   Jaffe-Lansing;Paramount Pictures   \n",
      "105                  Zoetrope Studios;Hotweather Films   \n",
      "106  Atlantic Entertainment Group;Valley 9000 Produ...   \n",
      "107                   Universal Pictures;Refugee Films   \n",
      "108                                                      \n",
      "\n",
      "                                          distributors  \\\n",
      "0    Altitude Film Entertainment;Altitude Film Ente...   \n",
      "1                                   Universal Pictures   \n",
      "2                                          Saban Films   \n",
      "3                                                        \n",
      "4                                                        \n",
      "..                                                 ...   \n",
      "104  Paramount Pictures;United International Pictur...   \n",
      "105  Universal Pictures;AMLF;Cinema International C...   \n",
      "106  Atlantic Releasing;Pan-Canadian Film Distribut...   \n",
      "107  Universal Pictures;United International Pictur...   \n",
      "108                American Broadcasting Company (ABC)   \n",
      "\n",
      "    special effects companies  \\\n",
      "0                               \n",
      "1                       Proof   \n",
      "2                               \n",
      "3                               \n",
      "4                               \n",
      "..                        ...   \n",
      "104                             \n",
      "105                             \n",
      "106                             \n",
      "107                             \n",
      "108                             \n",
      "\n",
      "                                       other companies  original air date  \\\n",
      "0    Artistry In Motion;Freeway CAM B.V.;IndieClear...                      \n",
      "1                                     Location Gourmet  14 Apr 2023 (USA)   \n",
      "2    Intercut Capital;Montana Video Production Rent...         2022 (USA)   \n",
      "3                                                              2022 (USA)   \n",
      "4                                                                           \n",
      "..                                                 ...                ...   \n",
      "104  Brunswick Corporation;Glen Glenn Sound Company...  23 Mar 1984 (USA)   \n",
      "105  International Alliance of Theatrical Stage Emp...  21 Oct 1983 (USA)   \n",
      "106  Biggart Production Services;Ultra Film Service...  29 Apr 1983 (USA)   \n",
      "107  Annie's Hallmark;B. Dalton Bookseller;Belgian ...  13 Aug 1982 (USA)   \n",
      "108                                                            1981 (USA)   \n",
      "\n",
      "    reassigned_genre  \n",
      "0              Drama  \n",
      "1             Comedy  \n",
      "2             Action  \n",
      "3             Action  \n",
      "4              Drama  \n",
      "..               ...  \n",
      "104            Drama  \n",
      "105            Drama  \n",
      "106           Comedy  \n",
      "107            Drama  \n",
      "108           Comedy  \n",
      "\n",
      "[109 rows x 33 columns]>\n"
     ]
    }
   ],
   "source": [
    "def reassign_genre(multiple_genres):\n",
    "    # function will assign the genre with most instances from group of multiple genres\n",
    "    # whichever category of genres had the most highest number of instances replaces the group of genres with one the \n",
    "    # highest instance\n",
    "    lst_genres = multiple_genres.split(\";\")\n",
    "    # print(lst_genres)\n",
    "    assigned_genre = \"\"\n",
    "    max_instances = 0\n",
    "    for genre in lst_genres:\n",
    "        if dict_genres[genre] > max_instances:\n",
    "            max_instances = dict_genres[genre]\n",
    "            assigned_genre = genre\n",
    "    # print(assigned_genre)\n",
    "    # print()\n",
    "    return assigned_genre\n",
    "\n",
    "df[\"reassigned_genre\"] = df[\"genres\"].apply(lambda x: pd.Series(reassign_genre(x)))\n",
    "print(df.head)"
   ]
  },
  {
   "cell_type": "markdown",
   "metadata": {},
   "source": [
    "<h1><font color=\"blue\">Find top genres (most instances) for prediction purposes</font></h1>"
   ]
  },
  {
   "cell_type": "code",
   "execution_count": 27,
   "metadata": {},
   "outputs": [
    {
     "name": "stdout",
     "output_type": "stream",
     "text": [
      "['Comedy', 'Crime', 'Drama', 'Thriller', 'Adventure', 'Romance', 'Fantasy', 'Action', 'Horror', 'Mystery']\n"
     ]
    }
   ],
   "source": [
    "# Split the dataframe into individual dataframes per genre\n",
    "# decide how many genres to be keep & which ones to remove\n",
    "# first assumption and approximation\n",
    "# extract movies with 10 or more instances only - reason is so there is a good number for training & testing\n",
    "# create a list of top genres\n",
    "# ideally need to run model for each genre to see how each looks but going to pick one\n",
    "# choosing higher number of instances or lower, selective with choosing genre \n",
    "top_genres = []\n",
    "for genre, num_instances in dict_genres.items():\n",
    "    if num_instances >= 10:\n",
    "        top_genres.append(genre)\n",
    "print(top_genres) # there are 10 top genres"
   ]
  },
  {
   "cell_type": "markdown",
   "metadata": {},
   "source": [
    "<h1><font color=\"blue\">Remove NaN from main dataframe</font></h1>"
   ]
  },
  {
   "cell_type": "code",
   "execution_count": 28,
   "metadata": {},
   "outputs": [
    {
     "name": "stdout",
     "output_type": "stream",
     "text": [
      "(104, 33)\n"
     ]
    }
   ],
   "source": [
    "# Cleaning dataframe by removing ratings with NaN - 5 total\n",
    "df_clean = df.dropna() #104 records with no NaN\n",
    "print(df_clean.shape)"
   ]
  },
  {
   "cell_type": "markdown",
   "metadata": {},
   "source": [
    "<h1><font color=\"blue\">Convert columns containing numbers as text</font></h1>"
   ]
  },
  {
   "cell_type": "code",
   "execution_count": 30,
   "metadata": {},
   "outputs": [
    {
     "name": "stdout",
     "output_type": "stream",
     "text": [
      "Index(['title', 'rating', 'genres', 'votes', 'languages', 'runtimes',\n",
      "       'countries', 'plot outline', 'director', 'year', 'writer', 'producer',\n",
      "       'composer', 'cinematographer', 'editor', 'editorial department',\n",
      "       'casting director', 'art direction', 'costume designer', 'make up',\n",
      "       'production manager', 'assistant director', 'art department',\n",
      "       'sound crew', 'special effects', 'visual effects', 'stunt performer',\n",
      "       'production companies', 'distributors', 'special effects companies',\n",
      "       'other companies', 'original air date', 'reassigned_genre',\n",
      "       'runtimes_n', 'year_n'],\n",
      "      dtype='object')\n"
     ]
    }
   ],
   "source": [
    "# Add numeric field for runtimes \n",
    "df_clean = df_clean.assign(runtimes_n = df_clean[\"runtimes\"].astype(\"float\"))\n",
    "# Add numeric field for year\n",
    "df_clean = df_clean.assign(year_n = df_clean[\"year\"].astype(\"float\"))\n",
    "\n",
    "print(df_clean.columns)"
   ]
  },
  {
   "cell_type": "markdown",
   "metadata": {},
   "source": [
    "<h1><font color=\"blue\">Reclassify ratings based on threshold</font></h1>"
   ]
  },
  {
   "cell_type": "code",
   "execution_count": 31,
   "metadata": {},
   "outputs": [],
   "source": [
    "rtg_thres = 6.0 #equal to the average of ratings, using to decide if a movie is a success or not. \n",
    "# Rating for overall, not specifcially not genre"
   ]
  },
  {
   "cell_type": "code",
   "execution_count": 32,
   "metadata": {},
   "outputs": [
    {
     "name": "stdout",
     "output_type": "stream",
     "text": [
      "Index(['title', 'rating', 'genres', 'votes', 'languages', 'runtimes',\n",
      "       'countries', 'plot outline', 'director', 'year', 'writer', 'producer',\n",
      "       'composer', 'cinematographer', 'editor', 'editorial department',\n",
      "       'casting director', 'art direction', 'costume designer', 'make up',\n",
      "       'production manager', 'assistant director', 'art department',\n",
      "       'sound crew', 'special effects', 'visual effects', 'stunt performer',\n",
      "       'production companies', 'distributors', 'special effects companies',\n",
      "       'other companies', 'original air date', 'reassigned_genre',\n",
      "       'runtimes_n', 'year_n', 'reclassified_rating'],\n",
      "      dtype='object')\n"
     ]
    }
   ],
   "source": [
    "def classify_rtg(rtg, threshold):\n",
    "    if rtg >= threshold:\n",
    "        return 1\n",
    "    else:\n",
    "        return 0\n",
    "\n",
    "# Insert a new column and calculate its values from a function\n",
    "df_clean = df_clean.assign(reclassified_rating=df_clean[\"rating\"].apply(lambda x: pd.Series(classify_rtg(x, rtg_thres))))\n",
    "print(df_clean.columns)\n",
    "#df_clean.head()"
   ]
  },
  {
   "cell_type": "markdown",
   "metadata": {},
   "source": [
    "<h1><font color=\"blue\">Reclassify genre</font></h1>"
   ]
  },
  {
   "cell_type": "code",
   "execution_count": 33,
   "metadata": {},
   "outputs": [
    {
     "name": "stdout",
     "output_type": "stream",
     "text": [
      "Thriller    55\n",
      "Drama       28\n",
      "Comedy      11\n",
      "Action       8\n",
      "Fantasy      1\n",
      "Horror       1\n",
      "Name: reassigned_genre, dtype: int64\n"
     ]
    }
   ],
   "source": [
    "# Multiple genres are assigned to the same movie in most cases; genres are listed in alphabetical order;\n",
    "# to reassign the genre with most occurrences to the group as the most representative\n",
    "print(df_clean[\"reassigned_genre\"].value_counts() )\n",
    "# 'Thriller' had more instances than 'action' and more movies were assigned to this genre\n",
    "# Worst case 'Thriller' can be removed from genre and reassigned"
   ]
  },
  {
   "cell_type": "code",
   "execution_count": 34,
   "metadata": {},
   "outputs": [
    {
     "name": "stdout",
     "output_type": "stream",
     "text": [
      "['title', 'reassigned_genre', 'votes', 'runtimes_n', 'year_n', 'reclassified_rating']\n"
     ]
    }
   ],
   "source": [
    "# Create a list of fields to be used in regression\n",
    "reg_fields = [\"title\", \"reassigned_genre\", \"votes\", \"runtimes_n\", \"year_n\"]\n",
    "pred_field = [\"reclassified_rating\"] \n",
    "final_fields = [\"title\", \"reassigned_genre\", \"votes\", \"runtimes_n\", \"year_n\", \"reclassified_rating\"]\n",
    "print(final_fields)"
   ]
  },
  {
   "cell_type": "code",
   "execution_count": 35,
   "metadata": {},
   "outputs": [
    {
     "name": "stdout",
     "output_type": "stream",
     "text": [
      "                                     title reassigned_genre    votes  \\\n",
      "5  The Unbearable Weight of Massive Talent         Thriller  21647.0   \n",
      "6                                      Pig         Thriller  66071.0   \n",
      "7                       Willy's Wonderland         Thriller  27005.0   \n",
      "8               Prisoners of the Ghostland         Thriller  10501.0   \n",
      "9                    The Croods: A New Age           Comedy  40860.0   \n",
      "\n",
      "   runtimes_n  year_n  reclassified_rating  \n",
      "5       107.0  2022.0                    1  \n",
      "6        92.0  2021.0                    1  \n",
      "7        88.0  2021.0                    0  \n",
      "8       103.0  2021.0                    0  \n",
      "9        95.0  2020.0                    1  \n",
      "Index(['title', 'reassigned_genre', 'votes', 'runtimes_n', 'year_n',\n",
      "       'reclassified_rating'],\n",
      "      dtype='object')\n"
     ]
    }
   ],
   "source": [
    "df_clean_final = df_clean[final_fields]\n",
    "print(df_clean_final.head())\n",
    "# keep only the fields needed for the model\n",
    "print(df_clean_final.columns)"
   ]
  },
  {
   "cell_type": "code",
   "execution_count": 36,
   "metadata": {},
   "outputs": [
    {
     "name": "stdout",
     "output_type": "stream",
     "text": [
      "                                                 title reassigned_genre  \\\n",
      "20                                                 211            Drama   \n",
      "35                                          The Runner            Drama   \n",
      "40                                                 Joe            Drama   \n",
      "51                                           Astro Boy            Drama   \n",
      "52            Bad Lieutenant: Port of Call New Orleans            Drama   \n",
      "64                                     The Weather Man            Drama   \n",
      "65                                         Lord of War            Drama   \n",
      "68                                         Adaptation.            Drama   \n",
      "69                                               Sonny            Drama   \n",
      "70                                         Windtalkers            Drama   \n",
      "72                          Captain Corelli's Mandolin            Drama   \n",
      "73                                      The Family Man            Drama   \n",
      "78                                      City of Angels            Drama   \n",
      "82                                   Leaving Las Vegas            Drama   \n",
      "85                              It Could Happen to You            Drama   \n",
      "86                                       Guarding Tess            Drama   \n",
      "87                                            Deadfall            Drama   \n",
      "92   Industrial Symphony No. 1: The Dream of the Br...            Drama   \n",
      "95                                        Time to Kill            Drama   \n",
      "96                                    Never on Tuesday            Drama   \n",
      "98                                          Moonstruck            Drama   \n",
      "100                              Peggy Sue Got Married            Drama   \n",
      "101                                    The Boy in Blue            Drama   \n",
      "102                                              Birdy            Drama   \n",
      "103                                    The Cotton Club            Drama   \n",
      "104                               Racing with the Moon            Drama   \n",
      "105                                        Rumble Fish            Drama   \n",
      "107                       Fast Times at Ridgemont High            Drama   \n",
      "\n",
      "        votes  runtimes_n  year_n  reclassified_rating  \n",
      "20     8222.0        86.0  2018.0                    0  \n",
      "35     5554.0        90.0  2015.0                    0  \n",
      "40    48345.0       117.0  2013.0                    1  \n",
      "51    36517.0        94.0  2009.0                    1  \n",
      "52    77053.0       122.0  2009.0                    1  \n",
      "64    80072.0       102.0  2005.0                    1  \n",
      "65   312459.0       122.0  2005.0                    1  \n",
      "68   190632.0       115.0  2002.0                    1  \n",
      "69     4260.0       110.0  2002.0                    0  \n",
      "70    68973.0       134.0  2002.0                    1  \n",
      "72    34279.0       131.0  2001.0                    0  \n",
      "73   109778.0       125.0  2000.0                    1  \n",
      "78   119733.0       114.0  1998.0                    1  \n",
      "82   123055.0       111.0  1995.0                    1  \n",
      "85    39434.0       101.0  1994.0                    1  \n",
      "86    17518.0        96.0  1994.0                    1  \n",
      "87     3379.0        98.0  1993.0                    0  \n",
      "92     1787.0        50.0  1990.0                    1  \n",
      "95      782.0       110.0  1989.0                    0  \n",
      "96     2207.0        90.0  1988.0                    0  \n",
      "98    58794.0       102.0  1987.0                    1  \n",
      "100   37450.0       103.0  1986.0                    1  \n",
      "101    1225.0       100.0  1986.0                    0  \n",
      "102   23172.0       120.0  1984.0                    1  \n",
      "103   17951.0       129.0  1984.0                    1  \n",
      "104    4585.0       108.0  1984.0                    1  \n",
      "105   34306.0        94.0  1983.0                    1  \n",
      "107  103612.0        90.0  1982.0                    1  \n"
     ]
    }
   ],
   "source": [
    "print(df_clean_final[df_clean_final[\"reassigned_genre\"]==\"Drama\"].head(30))"
   ]
  },
  {
   "cell_type": "markdown",
   "metadata": {},
   "source": [
    "<h1><font color=\"blue\">Dataframe for predicted records (small subset)</font></h1>\n",
    "Because the NaN records do not include actual values in the predictive fields, they cannot be used for prediction of the ratings field.\n",
    "<br />\n",
    "Instead, a random small subset will be chosen for a particular genre (Drama)"
   ]
  },
  {
   "cell_type": "code",
   "execution_count": 37,
   "metadata": {},
   "outputs": [
    {
     "name": "stdout",
     "output_type": "stream",
     "text": [
      "                     title reassigned_genre     votes  runtimes_n  year_n  \\\n",
      "35              The Runner            Drama    5554.0        90.0  2015.0   \n",
      "78          City of Angels            Drama  119733.0       114.0  1998.0   \n",
      "85  It Could Happen to You            Drama   39434.0       101.0  1994.0   \n",
      "87                Deadfall            Drama    3379.0        98.0  1993.0   \n",
      "\n",
      "    reclassified_rating  \n",
      "35                   -1  \n",
      "78                   -1  \n",
      "85                   -1  \n",
      "87                   -1  \n"
     ]
    }
   ],
   "source": [
    "pred_movies =  ['The Runner','City of Angels','Deadfall','It Could Happen to You']\n",
    "df_pred = df_clean_final[df_clean_final[\"title\"].isin(pred_movies)]\n",
    "df_pred = df_pred.assign(reclassified_rating = -1)\n",
    "print(df_pred.head())"
   ]
  },
  {
   "cell_type": "code",
   "execution_count": 38,
   "metadata": {},
   "outputs": [
    {
     "name": "stdout",
     "output_type": "stream",
     "text": [
      "(104, 6)\n",
      "(100, 6)\n"
     ]
    }
   ],
   "source": [
    "# Remove these movies from the main dataset \n",
    "print(df_clean_final.shape)\n",
    "df_clean_final = df_clean_final[~df_clean_final[\"title\"].isin(pred_movies)]\n",
    "print(df_clean_final.shape)"
   ]
  },
  {
   "cell_type": "code",
   "execution_count": 39,
   "metadata": {},
   "outputs": [],
   "source": [
    "# Number of instances of genres\n",
    "# Drama: 28\n",
    "\n",
    "# Extract records for drama only\n",
    "df_pred_drama = df_pred[df_pred[\"reassigned_genre\"].str.contains(\"Drama\")]"
   ]
  },
  {
   "cell_type": "code",
   "execution_count": 40,
   "metadata": {},
   "outputs": [
    {
     "name": "stdout",
     "output_type": "stream",
     "text": [
      "                     title reassigned_genre     votes  runtimes_n  year_n  \\\n",
      "35              The Runner            Drama    5554.0        90.0  2015.0   \n",
      "78          City of Angels            Drama  119733.0       114.0  1998.0   \n",
      "85  It Could Happen to You            Drama   39434.0       101.0  1994.0   \n",
      "87                Deadfall            Drama    3379.0        98.0  1993.0   \n",
      "\n",
      "    reclassified_rating  \n",
      "35                   -1  \n",
      "78                   -1  \n",
      "85                   -1  \n",
      "87                   -1  \n"
     ]
    }
   ],
   "source": [
    "#print(df_pred.head(10))\n",
    "print(df_pred_drama.head())\n",
    "#print(df_pred_comedy.head())"
   ]
  },
  {
   "cell_type": "code",
   "execution_count": 41,
   "metadata": {},
   "outputs": [
    {
     "name": "stdout",
     "output_type": "stream",
     "text": [
      "(24, 6)\n",
      "Index(['title', 'reassigned_genre', 'votes', 'runtimes_n', 'year_n',\n",
      "       'reclassified_rating'],\n",
      "      dtype='object')\n"
     ]
    }
   ],
   "source": [
    "# Create a pattern variable\n",
    "pat = \"\".join(\"Drama\") # search by a single genre, use empty string for join. If searching for multipe genre, use pipe | which means or.\n",
    "# Join won't have a single word but a list of items.\n",
    "df_drama = df_clean_final[df_clean_final[\"reassigned_genre\"].str.contains(pat, case = True, regex = True, na=False)]\n",
    "print(df_drama.shape)\n",
    "print(df_drama.columns)"
   ]
  },
  {
   "cell_type": "code",
   "execution_count": 42,
   "metadata": {},
   "outputs": [],
   "source": [
    "# Add numeric ID column for the model and calculate as a sequence\n",
    "df_drama.insert(0, \"movie_id\", range(0, 0 + len(df_drama)))\n",
    "# Make this new field the dataframe index\n",
    "df_drama.set_index ('movie_id')\n",
    "# reg_fields.insert(0, \"movie_id\") #no need to include in reg_fields\n",
    "# X_drama = df_drama[reg_fields] \n",
    "X_drama = df_drama[final_fields]\n",
    "\n",
    "# dropping the field 'reassigned_genre' because it's known that it is a drama \n",
    "# and as a constant value it does not contribute to the prediction accuracy\n",
    "X_drama = X_drama.drop(\"reassigned_genre\", axis = 1) \n",
    "Y_drama = df_drama[pred_field]"
   ]
  },
  {
   "cell_type": "code",
   "execution_count": 43,
   "metadata": {},
   "outputs": [
    {
     "name": "stdout",
     "output_type": "stream",
     "text": [
      "Index(['movie_id', 'title', 'reassigned_genre', 'votes', 'runtimes_n',\n",
      "       'year_n', 'reclassified_rating'],\n",
      "      dtype='object')\n",
      "Index(['title', 'votes', 'runtimes_n', 'year_n', 'reclassified_rating'], dtype='object')\n"
     ]
    }
   ],
   "source": [
    "print(df_drama.columns)\n",
    "print(X_drama.columns)"
   ]
  },
  {
   "cell_type": "markdown",
   "metadata": {},
   "source": [
    "<h2><font color=\"blue\">Drama dataframe - Create ranges for all numeric features used as predictors - votes, runtimes, year</font></h2>"
   ]
  },
  {
   "cell_type": "code",
   "execution_count": 45,
   "metadata": {},
   "outputs": [
    {
     "name": "stdout",
     "output_type": "stream",
     "text": [
      "              votes  runtimes_n       year_n  reclassified_rating\n",
      "count      24.00000   24.000000    24.000000            24.000000\n",
      "mean    58209.75000  106.708333  1995.750000             0.750000\n",
      "std     72186.43324   18.381179    10.738998             0.442326\n",
      "min       782.00000   50.000000  1982.000000             0.000000\n",
      "25%      7312.75000   95.500000  1986.000000             0.750000\n",
      "50%     35411.50000  109.000000  1994.500000             1.000000\n",
      "75%     77807.75000  120.500000  2002.750000             1.000000\n",
      "max    312459.00000  134.000000  2018.000000             1.000000\n",
      "782.0\n",
      "7312.75\n",
      "77807.75\n",
      "312459.0\n",
      "X_drama_d_ranges_votes\n",
      " [782.0, 7312.75, 77807.75]\n",
      "\n",
      "50.0\n",
      "95.5\n",
      "120.5\n",
      "134.0\n",
      "X_drama_d_runtimes\n",
      " [50.0, 95.5, 120.5]\n",
      "\n",
      "1982.0\n",
      "1986.0\n",
      "2002.75\n",
      "2018.0\n",
      "X_drama_d_year\n",
      " [1982.0, 1986.0, 2002.75]\n",
      "\n"
     ]
    }
   ],
   "source": [
    "X_drama_d = X_drama.describe()\n",
    "print(X_drama_d)\n",
    "\n",
    "# Want to find an objective way to reassign numeric values to categorical variables.\n",
    "# in this case percentiles from the histogram\n",
    "\n",
    "#=================================== VOTES ========================\n",
    "#min votes\n",
    "min_drama_votes = (X_drama_d.votes[3]) #5305.750000\n",
    "print(min_drama_votes)\n",
    "perc25_drama_votes = (X_drama_d.votes[4])\n",
    "print(perc25_drama_votes)\n",
    "perc75_drama_votes = (X_drama_d.votes[6])\n",
    "print(perc75_drama_votes)\n",
    "max_drama_votes = (X_drama_d.votes[7])\n",
    "print(max_drama_votes)\n",
    "\n",
    "X_drama_d_ranges_votes = [min_drama_votes, perc25_drama_votes, perc75_drama_votes]\n",
    "print('X_drama_d_ranges_votes\\n',X_drama_d_ranges_votes)\n",
    "print()\n",
    "#=================================== RUNTIMES ========================\n",
    "min_drama_runtimes = (X_drama_d.runtimes_n[3]) #5305.750000\n",
    "print(min_drama_runtimes)\n",
    "perc25_drama_runtimes = (X_drama_d.runtimes_n[4])\n",
    "print(perc25_drama_runtimes)\n",
    "perc75_drama_runtimes = (X_drama_d.runtimes_n[6])\n",
    "print(perc75_drama_runtimes)\n",
    "max_drama_runtimes = (X_drama_d.runtimes_n[7])\n",
    "print(max_drama_runtimes)\n",
    "\n",
    "X_drama_d_ranges_runtimes = [min_drama_runtimes, perc25_drama_runtimes, perc75_drama_runtimes]\n",
    "print('X_drama_d_runtimes\\n',X_drama_d_ranges_runtimes)\n",
    "print()\n",
    "#=================================== YEAR ========================\n",
    "min_drama_year = (X_drama_d.year_n[3]) #5305.750000\n",
    "print(min_drama_year)\n",
    "perc25_drama_year = (X_drama_d.year_n[4])\n",
    "print(perc25_drama_year)\n",
    "perc75_drama_year = (X_drama_d.year_n[6])\n",
    "print(perc75_drama_year)\n",
    "max_drama_year = (X_drama_d.year_n[7])\n",
    "print(max_drama_year)\n",
    "\n",
    "X_drama_d_ranges_year = [min_drama_year, perc25_drama_year, perc75_drama_year]\n",
    "print('X_drama_d_year\\n',X_drama_d_ranges_year)\n",
    "print()"
   ]
  },
  {
   "cell_type": "code",
   "execution_count": 46,
   "metadata": {},
   "outputs": [],
   "source": [
    "# Reclassified votes for training, drama\n",
    "X_drama_reclass = X_drama.copy(deep = True)"
   ]
  },
  {
   "cell_type": "code",
   "execution_count": 47,
   "metadata": {},
   "outputs": [
    {
     "name": "stdout",
     "output_type": "stream",
     "text": [
      "                                                 title     votes  runtimes_n  \\\n",
      "20                                                 211    8222.0        86.0   \n",
      "40                                                 Joe   48345.0       117.0   \n",
      "51                                           Astro Boy   36517.0        94.0   \n",
      "52            Bad Lieutenant: Port of Call New Orleans   77053.0       122.0   \n",
      "64                                     The Weather Man   80072.0       102.0   \n",
      "65                                         Lord of War  312459.0       122.0   \n",
      "68                                         Adaptation.  190632.0       115.0   \n",
      "69                                               Sonny    4260.0       110.0   \n",
      "70                                         Windtalkers   68973.0       134.0   \n",
      "72                          Captain Corelli's Mandolin   34279.0       131.0   \n",
      "73                                      The Family Man  109778.0       125.0   \n",
      "82                                   Leaving Las Vegas  123055.0       111.0   \n",
      "86                                       Guarding Tess   17518.0        96.0   \n",
      "92   Industrial Symphony No. 1: The Dream of the Br...    1787.0        50.0   \n",
      "95                                        Time to Kill     782.0       110.0   \n",
      "96                                    Never on Tuesday    2207.0        90.0   \n",
      "98                                          Moonstruck   58794.0       102.0   \n",
      "100                              Peggy Sue Got Married   37450.0       103.0   \n",
      "101                                    The Boy in Blue    1225.0       100.0   \n",
      "102                                              Birdy   23172.0       120.0   \n",
      "\n",
      "     year_n  reclassified_rating  \n",
      "20   2018.0                    0  \n",
      "40   2013.0                    1  \n",
      "51   2009.0                    1  \n",
      "52   2009.0                    1  \n",
      "64   2005.0                    1  \n",
      "65   2005.0                    1  \n",
      "68   2002.0                    1  \n",
      "69   2002.0                    0  \n",
      "70   2002.0                    1  \n",
      "72   2001.0                    0  \n",
      "73   2000.0                    1  \n",
      "82   1995.0                    1  \n",
      "86   1994.0                    1  \n",
      "92   1990.0                    1  \n",
      "95   1989.0                    0  \n",
      "96   1988.0                    0  \n",
      "98   1987.0                    1  \n",
      "100  1986.0                    1  \n",
      "101  1986.0                    0  \n",
      "102  1984.0                    1  \n"
     ]
    }
   ],
   "source": [
    "print(X_drama_reclass.head(20))"
   ]
  },
  {
   "cell_type": "code",
   "execution_count": 48,
   "metadata": {},
   "outputs": [
    {
     "name": "stdout",
     "output_type": "stream",
     "text": [
      "                                                 title     votes  runtimes_n  \\\n",
      "20                                                 211    8222.0        86.0   \n",
      "40                                                 Joe   48345.0       117.0   \n",
      "51                                           Astro Boy   36517.0        94.0   \n",
      "52            Bad Lieutenant: Port of Call New Orleans   77053.0       122.0   \n",
      "64                                     The Weather Man   80072.0       102.0   \n",
      "65                                         Lord of War  312459.0       122.0   \n",
      "68                                         Adaptation.  190632.0       115.0   \n",
      "69                                               Sonny    4260.0       110.0   \n",
      "70                                         Windtalkers   68973.0       134.0   \n",
      "72                          Captain Corelli's Mandolin   34279.0       131.0   \n",
      "73                                      The Family Man  109778.0       125.0   \n",
      "82                                   Leaving Las Vegas  123055.0       111.0   \n",
      "86                                       Guarding Tess   17518.0        96.0   \n",
      "92   Industrial Symphony No. 1: The Dream of the Br...    1787.0        50.0   \n",
      "95                                        Time to Kill     782.0       110.0   \n",
      "96                                    Never on Tuesday    2207.0        90.0   \n",
      "98                                          Moonstruck   58794.0       102.0   \n",
      "100                              Peggy Sue Got Married   37450.0       103.0   \n",
      "101                                    The Boy in Blue    1225.0       100.0   \n",
      "102                                              Birdy   23172.0       120.0   \n",
      "\n",
      "     year_n  reclassified_rating  reclassified_votes  \n",
      "20   2018.0                    0                   1  \n",
      "40   2013.0                    1                   1  \n",
      "51   2009.0                    1                   1  \n",
      "52   2009.0                    1                   1  \n",
      "64   2005.0                    1                   2  \n",
      "65   2005.0                    1                   2  \n",
      "68   2002.0                    1                   2  \n",
      "69   2002.0                    0                   0  \n",
      "70   2002.0                    1                   1  \n",
      "72   2001.0                    0                   1  \n",
      "73   2000.0                    1                   2  \n",
      "82   1995.0                    1                   2  \n",
      "86   1994.0                    1                   1  \n",
      "92   1990.0                    1                   0  \n",
      "95   1989.0                    0                   0  \n",
      "96   1988.0                    0                   0  \n",
      "98   1987.0                    1                   1  \n",
      "100  1986.0                    1                   1  \n",
      "101  1986.0                    0                   0  \n",
      "102  1984.0                    1                   1  \n"
     ]
    }
   ],
   "source": [
    "def reclassify_votes(x, percentiles):\n",
    "    #function will reassign the votes from the 3 percentile ranges to categorical variables 0, 1, 2\n",
    "    #use 3 ranges as there are only a few records for training\n",
    "    perc_min = percentiles[0]\n",
    "    perc_25 = percentiles[1]\n",
    "    perc_75 = percentiles[2]\n",
    "    \n",
    "    if x >= perc_min and x < perc_25:\n",
    "        return 0\n",
    "    elif x >= perc_25 and x < perc_75:\n",
    "        return 1\n",
    "    else:\n",
    "        return 2\n",
    "    \n",
    "X_drama_reclass = X_drama_reclass.assign(reclassified_votes=X_drama_reclass[\"votes\"].apply(lambda x: pd.Series(reclassify_votes(x, X_drama_d_ranges_votes))))\n",
    "print(X_drama_reclass.head(20))"
   ]
  },
  {
   "cell_type": "markdown",
   "metadata": {},
   "source": [
    "<h2><font color=\"blue\">Drama dataframe - reclassify numeric feature runtimes</font></h2>"
   ]
  },
  {
   "cell_type": "code",
   "execution_count": 49,
   "metadata": {},
   "outputs": [
    {
     "name": "stdout",
     "output_type": "stream",
     "text": [
      "                                                 title     votes  runtimes_n  \\\n",
      "20                                                 211    8222.0        86.0   \n",
      "40                                                 Joe   48345.0       117.0   \n",
      "51                                           Astro Boy   36517.0        94.0   \n",
      "52            Bad Lieutenant: Port of Call New Orleans   77053.0       122.0   \n",
      "64                                     The Weather Man   80072.0       102.0   \n",
      "65                                         Lord of War  312459.0       122.0   \n",
      "68                                         Adaptation.  190632.0       115.0   \n",
      "69                                               Sonny    4260.0       110.0   \n",
      "70                                         Windtalkers   68973.0       134.0   \n",
      "72                          Captain Corelli's Mandolin   34279.0       131.0   \n",
      "73                                      The Family Man  109778.0       125.0   \n",
      "82                                   Leaving Las Vegas  123055.0       111.0   \n",
      "86                                       Guarding Tess   17518.0        96.0   \n",
      "92   Industrial Symphony No. 1: The Dream of the Br...    1787.0        50.0   \n",
      "95                                        Time to Kill     782.0       110.0   \n",
      "96                                    Never on Tuesday    2207.0        90.0   \n",
      "98                                          Moonstruck   58794.0       102.0   \n",
      "100                              Peggy Sue Got Married   37450.0       103.0   \n",
      "101                                    The Boy in Blue    1225.0       100.0   \n",
      "102                                              Birdy   23172.0       120.0   \n",
      "\n",
      "     year_n  reclassified_rating  reclassified_votes  reclassified_runtimes  \n",
      "20   2018.0                    0                   1                      0  \n",
      "40   2013.0                    1                   1                      1  \n",
      "51   2009.0                    1                   1                      0  \n",
      "52   2009.0                    1                   1                      2  \n",
      "64   2005.0                    1                   2                      1  \n",
      "65   2005.0                    1                   2                      2  \n",
      "68   2002.0                    1                   2                      1  \n",
      "69   2002.0                    0                   0                      1  \n",
      "70   2002.0                    1                   1                      2  \n",
      "72   2001.0                    0                   1                      2  \n",
      "73   2000.0                    1                   2                      2  \n",
      "82   1995.0                    1                   2                      1  \n",
      "86   1994.0                    1                   1                      1  \n",
      "92   1990.0                    1                   0                      0  \n",
      "95   1989.0                    0                   0                      1  \n",
      "96   1988.0                    0                   0                      0  \n",
      "98   1987.0                    1                   1                      1  \n",
      "100  1986.0                    1                   1                      1  \n",
      "101  1986.0                    0                   0                      1  \n",
      "102  1984.0                    1                   1                      1  \n",
      "Index(['title', 'votes', 'runtimes_n', 'year_n', 'reclassified_rating',\n",
      "       'reclassified_votes', 'reclassified_runtimes'],\n",
      "      dtype='object')\n"
     ]
    }
   ],
   "source": [
    "def reclassify_runtimes(x, percentiles):\n",
    "    #function will reassign the votes from the 3 percentile ranges to categorical variables 0, 1, 2\n",
    "    #use 3 ranges as there are only a few records for training\n",
    "    perc_min = percentiles[0]\n",
    "    perc_25 = percentiles[1]\n",
    "    perc_75 = percentiles[2]\n",
    "    \n",
    "    if x >= perc_min and x < perc_25:\n",
    "        return 0\n",
    "    elif x >= perc_25 and x < perc_75:\n",
    "        return 1\n",
    "    else:\n",
    "        return 2\n",
    "    \n",
    "X_drama_reclass = X_drama_reclass.assign(reclassified_runtimes=X_drama_reclass[\"runtimes_n\"].apply(lambda x: pd.Series(reclassify_runtimes(x, X_drama_d_ranges_runtimes))))\n",
    "print(X_drama_reclass.head(20))\n",
    "print(X_drama_reclass.columns)"
   ]
  },
  {
   "cell_type": "markdown",
   "metadata": {},
   "source": [
    "<h2><font color=\"blue\">Drama dataframe for predicted movies</font></h2>"
   ]
  },
  {
   "cell_type": "code",
   "execution_count": 51,
   "metadata": {},
   "outputs": [
    {
     "name": "stdout",
     "output_type": "stream",
     "text": [
      "Index(['title', 'reassigned_genre', 'votes', 'runtimes_n', 'year_n',\n",
      "       'reclassified_rating'],\n",
      "      dtype='object')\n",
      "                     title reassigned_genre     votes  runtimes_n  year_n  \\\n",
      "35              The Runner            Drama    5554.0        90.0  2015.0   \n",
      "78          City of Angels            Drama  119733.0       114.0  1998.0   \n",
      "85  It Could Happen to You            Drama   39434.0       101.0  1994.0   \n",
      "87                Deadfall            Drama    3379.0        98.0  1993.0   \n",
      "\n",
      "    reclassified_rating  \n",
      "35                   -1  \n",
      "78                   -1  \n",
      "85                   -1  \n",
      "87                   -1  \n"
     ]
    }
   ],
   "source": [
    "# DataFrame containing records for predicted movies \n",
    "print(df_pred_drama.columns)\n",
    "print(df_pred_drama.head())"
   ]
  },
  {
   "cell_type": "code",
   "execution_count": 52,
   "metadata": {},
   "outputs": [
    {
     "name": "stdout",
     "output_type": "stream",
     "text": [
      "                     title reassigned_genre     votes  runtimes_n  year_n  \\\n",
      "35              The Runner            Drama    5554.0        90.0  2015.0   \n",
      "78          City of Angels            Drama  119733.0       114.0  1998.0   \n",
      "85  It Could Happen to You            Drama   39434.0       101.0  1994.0   \n",
      "87                Deadfall            Drama    3379.0        98.0  1993.0   \n",
      "\n",
      "    reclassified_rating  reclassified_votes  \n",
      "35                   -1                   0  \n",
      "78                   -1                   2  \n",
      "85                   -1                   1  \n",
      "87                   -1                   0  \n"
     ]
    }
   ],
   "source": [
    "# Reclassify the votes for the dataframe containing records for prediction\n",
    "df_pred_drama = df_pred_drama.assign(reclassified_votes=df_pred_drama[\"votes\"].apply(lambda x: pd.Series(reclassify_votes(x, X_drama_d_ranges_votes))))\n",
    "print(df_pred_drama.head(20))"
   ]
  },
  {
   "cell_type": "code",
   "execution_count": 53,
   "metadata": {},
   "outputs": [
    {
     "name": "stdout",
     "output_type": "stream",
     "text": [
      "                     title reassigned_genre     votes  runtimes_n  year_n  \\\n",
      "35              The Runner            Drama    5554.0        90.0  2015.0   \n",
      "78          City of Angels            Drama  119733.0       114.0  1998.0   \n",
      "85  It Could Happen to You            Drama   39434.0       101.0  1994.0   \n",
      "87                Deadfall            Drama    3379.0        98.0  1993.0   \n",
      "\n",
      "    reclassified_rating  reclassified_votes  reclassified_runtimes  \n",
      "35                   -1                   0                      0  \n",
      "78                   -1                   2                      1  \n",
      "85                   -1                   1                      1  \n",
      "87                   -1                   0                      1  \n"
     ]
    }
   ],
   "source": [
    "# Reclassify the runtimes for the dataframe containing records for prediction\n",
    "df_pred_drama = df_pred_drama.assign(reclassified_runtimes=df_pred_drama[\"runtimes_n\"].apply(lambda x: pd.Series(reclassify_runtimes(x, X_drama_d_ranges_runtimes))))\n",
    "print(df_pred_drama.head(20))"
   ]
  },
  {
   "cell_type": "code",
   "execution_count": 54,
   "metadata": {},
   "outputs": [],
   "source": [
    "def reclassify_years(x, percentiles):\n",
    "    # function will reassign the votes from the 3 percentile ranges to categorical variables 0, 1, 2\n",
    "    # use 3 ranges as there are only a few records for training\n",
    "    perc_min = percentiles[0]\n",
    "    perc_25 = percentiles[1]\n",
    "    perc_75 = percentiles[2]\n",
    "    \n",
    "    if x >= perc_min and x < perc_25:\n",
    "        return 0\n",
    "    elif x >= perc_25 and x < perc_75:\n",
    "        return 1\n",
    "    else:\n",
    "        return 2"
   ]
  },
  {
   "cell_type": "code",
   "execution_count": 55,
   "metadata": {},
   "outputs": [
    {
     "name": "stdout",
     "output_type": "stream",
     "text": [
      "                     title reassigned_genre     votes  runtimes_n  year_n  \\\n",
      "35              The Runner            Drama    5554.0        90.0  2015.0   \n",
      "78          City of Angels            Drama  119733.0       114.0  1998.0   \n",
      "85  It Could Happen to You            Drama   39434.0       101.0  1994.0   \n",
      "87                Deadfall            Drama    3379.0        98.0  1993.0   \n",
      "\n",
      "    reclassified_rating  reclassified_votes  reclassified_runtimes  \\\n",
      "35                   -1                   0                      0   \n",
      "78                   -1                   2                      1   \n",
      "85                   -1                   1                      1   \n",
      "87                   -1                   0                      1   \n",
      "\n",
      "    reclassified_year  \n",
      "35                  2  \n",
      "78                  1  \n",
      "85                  1  \n",
      "87                  1  \n"
     ]
    }
   ],
   "source": [
    "df_pred_drama = df_pred_drama.assign(reclassified_year=df_pred_drama[\"year_n\"].apply(lambda x: pd.Series(reclassify_years(x, X_drama_d_ranges_year))))\n",
    "print(df_pred_drama.head(20))"
   ]
  },
  {
   "cell_type": "code",
   "execution_count": 56,
   "metadata": {},
   "outputs": [
    {
     "name": "stdout",
     "output_type": "stream",
     "text": [
      "    reclassified_rating  reclassified_votes  reclassified_runtimes  \\\n",
      "35                   -1                   0                      0   \n",
      "78                   -1                   2                      1   \n",
      "85                   -1                   1                      1   \n",
      "87                   -1                   0                      1   \n",
      "\n",
      "    reclassified_year  \n",
      "35                  2  \n",
      "78                  1  \n",
      "85                  1  \n",
      "87                  1  \n",
      "Index(['reclassified_rating', 'reclassified_votes', 'reclassified_runtimes',\n",
      "       'reclassified_year'],\n",
      "      dtype='object')\n"
     ]
    },
    {
     "data": {
      "text/plain": [
       "'\\n- movie_id\\n- reclassified_runtimes\\n- reclassified_votes\\n- reclassified_year'"
      ]
     },
     "execution_count": 56,
     "metadata": {},
     "output_type": "execute_result"
    }
   ],
   "source": [
    "df_pred_drama4model = df_pred_drama.copy(deep=True)\n",
    "df_pred_drama4model = df_pred_drama.drop([\"title\", \"reassigned_genre\", \"votes\", \"runtimes_n\", \"year_n\"], axis = 1)\n",
    "#df.drop(['A'], axis = 1)\n",
    "print(df_pred_drama4model.head())\n",
    "print(df_pred_drama4model.columns)\n",
    "'''\n",
    "- movie_id\n",
    "- reclassified_runtimes\n",
    "- reclassified_votes\n",
    "- reclassified_year'''"
   ]
  },
  {
   "cell_type": "markdown",
   "metadata": {},
   "source": [
    "<h2><font color=\"blue\">Drama dataframe - Create ranges for numeric feature year</font></h2>"
   ]
  },
  {
   "cell_type": "code",
   "execution_count": 57,
   "metadata": {},
   "outputs": [
    {
     "name": "stdout",
     "output_type": "stream",
     "text": [
      "                                                 title     votes  runtimes_n  \\\n",
      "20                                                 211    8222.0        86.0   \n",
      "40                                                 Joe   48345.0       117.0   \n",
      "51                                           Astro Boy   36517.0        94.0   \n",
      "52            Bad Lieutenant: Port of Call New Orleans   77053.0       122.0   \n",
      "64                                     The Weather Man   80072.0       102.0   \n",
      "65                                         Lord of War  312459.0       122.0   \n",
      "68                                         Adaptation.  190632.0       115.0   \n",
      "69                                               Sonny    4260.0       110.0   \n",
      "70                                         Windtalkers   68973.0       134.0   \n",
      "72                          Captain Corelli's Mandolin   34279.0       131.0   \n",
      "73                                      The Family Man  109778.0       125.0   \n",
      "82                                   Leaving Las Vegas  123055.0       111.0   \n",
      "86                                       Guarding Tess   17518.0        96.0   \n",
      "92   Industrial Symphony No. 1: The Dream of the Br...    1787.0        50.0   \n",
      "95                                        Time to Kill     782.0       110.0   \n",
      "96                                    Never on Tuesday    2207.0        90.0   \n",
      "98                                          Moonstruck   58794.0       102.0   \n",
      "100                              Peggy Sue Got Married   37450.0       103.0   \n",
      "101                                    The Boy in Blue    1225.0       100.0   \n",
      "102                                              Birdy   23172.0       120.0   \n",
      "\n",
      "     year_n  reclassified_rating  reclassified_votes  reclassified_runtimes  \\\n",
      "20   2018.0                    0                   1                      0   \n",
      "40   2013.0                    1                   1                      1   \n",
      "51   2009.0                    1                   1                      0   \n",
      "52   2009.0                    1                   1                      2   \n",
      "64   2005.0                    1                   2                      1   \n",
      "65   2005.0                    1                   2                      2   \n",
      "68   2002.0                    1                   2                      1   \n",
      "69   2002.0                    0                   0                      1   \n",
      "70   2002.0                    1                   1                      2   \n",
      "72   2001.0                    0                   1                      2   \n",
      "73   2000.0                    1                   2                      2   \n",
      "82   1995.0                    1                   2                      1   \n",
      "86   1994.0                    1                   1                      1   \n",
      "92   1990.0                    1                   0                      0   \n",
      "95   1989.0                    0                   0                      1   \n",
      "96   1988.0                    0                   0                      0   \n",
      "98   1987.0                    1                   1                      1   \n",
      "100  1986.0                    1                   1                      1   \n",
      "101  1986.0                    0                   0                      1   \n",
      "102  1984.0                    1                   1                      1   \n",
      "\n",
      "     reclassified_year  \n",
      "20                   2  \n",
      "40                   2  \n",
      "51                   2  \n",
      "52                   2  \n",
      "64                   2  \n",
      "65                   2  \n",
      "68                   1  \n",
      "69                   1  \n",
      "70                   1  \n",
      "72                   1  \n",
      "73                   1  \n",
      "82                   1  \n",
      "86                   1  \n",
      "92                   1  \n",
      "95                   1  \n",
      "96                   1  \n",
      "98                   1  \n",
      "100                  1  \n",
      "101                  1  \n",
      "102                  0  \n"
     ]
    }
   ],
   "source": [
    "X_drama_reclass = X_drama_reclass.assign(reclassified_year=X_drama_reclass[\"year_n\"].apply(lambda x: pd.Series(reclassify_years(x, X_drama_d_ranges_year))))\n",
    "print(X_drama_reclass.head(20))"
   ]
  },
  {
   "cell_type": "markdown",
   "metadata": {},
   "source": [
    "<h1><font color=\"blue\">Creating a model for 'drama'</font></h1>"
   ]
  },
  {
   "cell_type": "code",
   "execution_count": 58,
   "metadata": {},
   "outputs": [
    {
     "data": {
      "text/plain": [
       "'\\nprint(X_train_drama.shape)\\nprint(X_train_drama.columns)\\nprint(X_test_drama.shape)\\nprint(X_test_drama.columns)\\nprint(y_train_drama.shape)\\nprint(y_train_drama.columns)\\nprint(y_test_drama.shape)\\nprint(y_test_drama.columns)\\n'"
      ]
     },
     "execution_count": 58,
     "metadata": {},
     "output_type": "execute_result"
    }
   ],
   "source": [
    "# Creating train and test split to help prevent overfitting, added reclassified_rating to dropped fields\n",
    "X_drama_reclass4model = X_drama_reclass.drop([\"reclassified_rating\",\"title\", \"votes\", \"runtimes_n\", \"year_n\"], axis = 1) # dropping the field 'title' because we have movie_id\n",
    "\n",
    "'''\n",
    "print(X_train_drama.shape)\n",
    "print(X_train_drama.columns)\n",
    "print(X_test_drama.shape)\n",
    "print(X_test_drama.columns)\n",
    "print(y_train_drama.shape)\n",
    "print(y_train_drama.columns)\n",
    "print(y_test_drama.shape)\n",
    "print(y_test_drama.columns)\n",
    "'''"
   ]
  },
  {
   "cell_type": "code",
   "execution_count": 59,
   "metadata": {},
   "outputs": [
    {
     "name": "stdout",
     "output_type": "stream",
     "text": [
      "     reclassified_votes  reclassified_runtimes  reclassified_year\n",
      "20                    1                      0                  2\n",
      "40                    1                      1                  2\n",
      "51                    1                      0                  2\n",
      "52                    1                      2                  2\n",
      "64                    2                      1                  2\n",
      "65                    2                      2                  2\n",
      "68                    2                      1                  1\n",
      "69                    0                      1                  1\n",
      "70                    1                      2                  1\n",
      "72                    1                      2                  1\n",
      "73                    2                      2                  1\n",
      "82                    2                      1                  1\n",
      "86                    1                      1                  1\n",
      "92                    0                      0                  1\n",
      "95                    0                      1                  1\n",
      "96                    0                      0                  1\n",
      "98                    1                      1                  1\n",
      "100                   1                      1                  1\n",
      "101                   0                      1                  1\n",
      "102                   1                      1                  0\n"
     ]
    }
   ],
   "source": [
    "print(X_drama_reclass4model.head(20))"
   ]
  },
  {
   "cell_type": "markdown",
   "metadata": {},
   "source": [
    "<h2><font color=\"blue\">Drama model - training and test datasets</font></h2>"
   ]
  },
  {
   "cell_type": "code",
   "execution_count": 238,
   "metadata": {},
   "outputs": [],
   "source": [
    "# Create an instance of the logistic regression model\n",
    "lr_drama = LogisticRegression()"
   ]
  },
  {
   "cell_type": "code",
   "execution_count": 239,
   "metadata": {},
   "outputs": [],
   "source": [
    "test_dataset_size = 0.35 #35% of total; can be modified and prediction results compared\n",
    "X_train_drama, X_test_drama, y_train_drama, y_test_drama = train_test_split(X_drama_reclass4model, Y_drama, test_size=test_dataset_size, random_state=np.random)"
   ]
  },
  {
   "cell_type": "code",
   "execution_count": 240,
   "metadata": {},
   "outputs": [
    {
     "name": "stdout",
     "output_type": "stream",
     "text": [
      "Size of X_train_drama (dataset containing training data, 65.0% of all data) is (15, 3)\n",
      "Size of y_train_drama (true values of field \"ratings\" for training dataset) is (15, 1)\n",
      "Size of X_test_drama (dataset containing test data, 35.0% of all data) is (9, 3)\n",
      "Size of y_test_drama (true values of field \"ratings\" for test dataset) is (9, 1)\n"
     ]
    }
   ],
   "source": [
    "print(f'Size of X_train_drama (dataset containing training data, {100-test_dataset_size*100}% of all data) is {X_train_drama.shape}')\n",
    "print(f'Size of y_train_drama (true values of field \"ratings\" for training dataset) is {y_train_drama.shape}')\n",
    "print(f'Size of X_test_drama (dataset containing test data, {test_dataset_size * 100}% of all data) is {X_test_drama.shape}')\n",
    "print(f'Size of y_test_drama (true values of field \"ratings\" for test dataset) is {y_test_drama.shape}')"
   ]
  },
  {
   "cell_type": "code",
   "execution_count": 241,
   "metadata": {},
   "outputs": [
    {
     "name": "stdout",
     "output_type": "stream",
     "text": [
      "     reclassified_votes  reclassified_runtimes  reclassified_year\n",
      "98                    1                      1                  1\n",
      "65                    2                      2                  2\n",
      "102                   1                      1                  0\n",
      "86                    1                      1                  1\n",
      "51                    1                      0                  2\n",
      "70                    1                      2                  1\n",
      "103                   1                      2                  0\n",
      "104                   0                      1                  0\n",
      "107                   2                      0                  0\n",
      "105                   1                      0                  0\n",
      "72                    1                      2                  1\n",
      "101                   0                      1                  1\n",
      "40                    1                      1                  2\n",
      "69                    0                      1                  1\n",
      "92                    0                      0                  1\n",
      "     reclassified_rating\n",
      "98                     1\n",
      "65                     1\n",
      "102                    1\n",
      "86                     1\n",
      "51                     1\n",
      "70                     1\n",
      "103                    1\n",
      "104                    1\n",
      "107                    1\n",
      "105                    1\n",
      "72                     0\n",
      "101                    0\n",
      "40                     1\n",
      "69                     0\n",
      "92                     1\n"
     ]
    }
   ],
   "source": [
    "# Training dataset and values for field \"ratings\"\n",
    "print(X_train_drama.head(X_train_drama.shape[0]))\n",
    "print(y_train_drama.head(y_train_drama.shape[0]))"
   ]
  },
  {
   "cell_type": "code",
   "execution_count": 242,
   "metadata": {},
   "outputs": [
    {
     "name": "stdout",
     "output_type": "stream",
     "text": [
      "Test dataset:\n",
      "      reclassified_votes  reclassified_runtimes  reclassified_year\n",
      "68                    2                      1                  1\n",
      "100                   1                      1                  1\n",
      "64                    2                      1                  2\n",
      "95                    0                      1                  1\n",
      "73                    2                      2                  1\n",
      "82                    2                      1                  1\n",
      "96                    0                      0                  1\n",
      "20                    1                      0                  2\n",
      "52                    1                      2                  2\n",
      "True ratings values:\n",
      "      reclassified_rating\n",
      "68                     1\n",
      "100                    1\n",
      "64                     1\n",
      "95                     0\n",
      "73                     1\n",
      "82                     1\n",
      "96                     0\n",
      "20                     0\n",
      "52                     1\n"
     ]
    }
   ],
   "source": [
    "# Test dataset and true values for field \"ratings\" # true values are already known\n",
    "print('Test dataset:\\n', X_test_drama.head(X_test_drama.shape[0]))\n",
    "# these are the true rating values, try to predict with the model\n",
    "print('True ratings values:\\n', y_test_drama.head(y_test_drama.shape[0]))"
   ]
  },
  {
   "cell_type": "code",
   "execution_count": 243,
   "metadata": {},
   "outputs": [],
   "source": [
    "# Fit the Model - use np.ravel to avoid sklearn error\n",
    "'''\n",
    "DataConversionWarning: A column-vector y was passed when a 1d array was expected. \n",
    "Please change the shape of y to (n_samples, ), for example using ravel().\n",
    "''' \n",
    "drama_model = lr_drama.fit(X_train_drama, np.ravel(y_train_drama))\n",
    "# need to convert all string data to numeric with pandas dummies"
   ]
  },
  {
   "cell_type": "code",
   "execution_count": 244,
   "metadata": {},
   "outputs": [
    {
     "name": "stdout",
     "output_type": "stream",
     "text": [
      "Predicted ratings: \n",
      "[1 1 1 1 1 1 1 1 1]\n"
     ]
    }
   ],
   "source": [
    "# Use the model to predict test from train data\n",
    "y_test_pred_drama = lr_drama.predict(X_test_drama)\n",
    "print(f'Predicted ratings: \\n{y_test_pred_drama}')\n"
   ]
  },
  {
   "cell_type": "code",
   "execution_count": 245,
   "metadata": {},
   "outputs": [
    {
     "name": "stdout",
     "output_type": "stream",
     "text": [
      "[[0 3]\n",
      " [0 6]]\n",
      "true negative: 0\n",
      " false positive: 3\n",
      " false negative: 0\n",
      " true positive: 6\n",
      "True values:      reclassified_rating\n",
      "68                     1\n",
      "100                    1\n",
      "64                     1\n",
      "95                     0\n",
      "73                     1\n",
      "82                     1\n",
      "96                     0\n",
      "20                     0\n",
      "52                     1\n",
      "Predicted ratings values: [1 1 1 1 1 1 1 1 1]\n",
      "Accuracy of prediction for DRAMA movie in test dataset to have a rating greater than the average 6.0 is 0.67\n"
     ]
    }
   ],
   "source": [
    "# Create a confusion matrix for the ratings in test data set (35%) predicted from training data set (65%)\n",
    "conf_matrix_test_drama = metrics.confusion_matrix(y_test_drama, y_test_pred_drama) # what are actual values vs. predicted ones\n",
    "print(conf_matrix_test_drama)\n",
    "tn, fp, fn, tp = conf_matrix_test_drama.ravel()\n",
    "print(f\"true negative: {tn}\\n false positive: {fp}\\n false negative: {fn}\\n true positive: {tp}\")\n",
    "# check the values of true positives and true negatives\n",
    "print(f'True values: {y_test_drama}\\nPredicted ratings values: {y_test_pred_drama}')\n",
    "prediction_accuracy = round(metrics.accuracy_score(y_test_drama, y_test_pred_drama), 2)\n",
    "print(f\"Accuracy of prediction for DRAMA movie in test dataset to have a rating greater than the average {rtg_thres} is {prediction_accuracy}\")"
   ]
  },
  {
   "cell_type": "code",
   "execution_count": null,
   "metadata": {},
   "outputs": [],
   "source": [
    "'''\n",
    "Results from 10 runs for DRAMA genre with the sampe split of training/test datasets:\n",
    "\n",
    "Run 1, prediction accuracy of model = 0.78\n",
    "Run 2, prediction accuracy of model = 0.67\n",
    "Run 3, prediction accuracy of model = 0.78\n",
    "Run 4, prediction accuracy of model = 0.78\n",
    "Run 5, prediction accuracy of model = 0.56\n",
    "Run 6, prediction accuracy of model = 0.56 \n",
    "Run 7, prediction accuracy of model = 0.89\n",
    "Run 8, prediction accuracy of model = 0.78\n",
    "Run 9, prediction accuracy of model = 0.67\n",
    "Run 10, prediction accuracy of model = 0.67\n",
    "\n",
    "Results from 10 runs of model accuracy:\n",
    "\n",
    "Run 1, model accuracy = 0.75\n",
    "Run 2, model accuracy = 0.75\n",
    "Run 3, model accuracy = 0.75\n",
    "Run 4, model accuracy = 0.75\n",
    "Run 5, model accuracy = 0.75\n",
    "Run 6, model accuracy = 0.50\n",
    "Run 7, model accuracy = 1.00\n",
    "Run 8, model accuracy = 1.00\n",
    "Run 9, model accuracy = 0.50\n",
    "Run 10, model accuracy = 0.50\n",
    "\n",
    "runs = ['Run1', 'Run2', 'Run3', 'Run4', 'Run5', 'Run6', 'Run7', 'Run8', 'Run9', 'Run10']\n",
    "prediction_accuracies = [0.78, 0.67, 0.78, 0.78, 0.56, 0.56, 0.89, 0.78, 0.67, 0.67]\n",
    "model_accuracies = [0.75, 0.75, 0.75, 0.75, 0.75, 0.50, 1.00, 1.00, 0.50, 0.50]\n",
    "'''"
   ]
  },
  {
   "cell_type": "markdown",
   "metadata": {},
   "source": [
    "<h1><font color=\"blue\">Execute model on dataset containing movies for rating prediction</font></h1>"
   ]
  },
  {
   "cell_type": "code",
   "execution_count": 246,
   "metadata": {},
   "outputs": [
    {
     "name": "stdout",
     "output_type": "stream",
     "text": [
      "Index(['reclassified_votes', 'reclassified_runtimes', 'reclassified_year'], dtype='object')\n",
      "    reclassified_votes  reclassified_runtimes  reclassified_year\n",
      "35                   0                      0                  2\n",
      "78                   2                      1                  1\n",
      "85                   1                      1                  1\n",
      "87                   0                      1                  1\n"
     ]
    }
   ],
   "source": [
    "df_pred_drama4model = df_pred_drama4model.reindex(columns=['reclassified_votes', 'reclassified_runtimes',\n",
    "       'reclassified_year'])\n",
    "print(df_pred_drama4model.columns)\n",
    "print(df_pred_drama4model.head())"
   ]
  },
  {
   "cell_type": "code",
   "execution_count": 247,
   "metadata": {},
   "outputs": [
    {
     "name": "stdout",
     "output_type": "stream",
     "text": [
      "    reclassified_votes  reclassified_runtimes  reclassified_year\n",
      "35                   0                      0                  2\n",
      "78                   2                      1                  1\n",
      "85                   1                      1                  1\n",
      "87                   0                      1                  1\n"
     ]
    }
   ],
   "source": [
    "print(df_pred_drama4model.head())"
   ]
  },
  {
   "cell_type": "code",
   "execution_count": 248,
   "metadata": {},
   "outputs": [
    {
     "name": "stdout",
     "output_type": "stream",
     "text": [
      "    reclassified_votes  reclassified_runtimes  reclassified_year\n",
      "35                   0                      0                  2\n",
      "78                   2                      1                  1\n",
      "85                   1                      1                  1\n",
      "87                   0                      1                  1\n",
      "[1 1 1 1]\n"
     ]
    }
   ],
   "source": [
    "# Use the model to predict from test data\n",
    "y_pred_drama = lr_drama.predict(df_pred_drama4model)\n",
    "print(df_pred_drama4model)\n",
    "print(y_pred_drama)"
   ]
  },
  {
   "cell_type": "code",
   "execution_count": 249,
   "metadata": {},
   "outputs": [
    {
     "name": "stdout",
     "output_type": "stream",
     "text": [
      "                     title  rating                 genres\n",
      "35              The Runner     4.7                  Drama\n",
      "78          City of Angels     6.7  Drama;Fantasy;Romance\n",
      "85  It Could Happen to You     6.4   Comedy;Drama;Romance\n",
      "87                Deadfall     4.0            Crime;Drama\n"
     ]
    }
   ],
   "source": [
    "# Create user-friendly output for the predicted movies\n",
    "# Because of the reindexing, using the index from the backup\n",
    "df_predicted_movies = pd.DataFrame(df_backup.iloc[[35, 78, 85, 87]], \n",
    "                columns =['title', 'rating', 'genres'])\n",
    "print(df_predicted_movies.head())"
   ]
  },
  {
   "cell_type": "code",
   "execution_count": 250,
   "metadata": {},
   "outputs": [
    {
     "name": "stdout",
     "output_type": "stream",
     "text": [
      "[35, 78, 85, 87]\n",
      "          predicted_rating_greater_than_average\n",
      "movie_id                                       \n",
      "35                                            1\n",
      "78                                            1\n",
      "85                                            1\n",
      "87                                            1\n"
     ]
    }
   ],
   "source": [
    "idxs = list(df_predicted_movies.index)\n",
    "print(idxs)\n",
    "df_y_pred_drama = pd.DataFrame(y_pred_drama, columns=['predicted_rating_greater_than_average'])\n",
    "\n",
    "df_y_pred_drama['movie_id'] = idxs\n",
    "\n",
    "df_y_pred_drama = df_y_pred_drama.set_index('movie_id')\n",
    "print(df_y_pred_drama)\n",
    "# If 1 is rating that's means it's over 6.0 for ratings, movie ID shows what actual rating is, \n",
    "# then compare it to see if it is true or not."
   ]
  },
  {
   "cell_type": "code",
   "execution_count": 251,
   "metadata": {},
   "outputs": [
    {
     "name": "stdout",
     "output_type": "stream",
     "text": [
      "          predicted_rating_greater_than_average                   title  \\\n",
      "movie_id                                                                  \n",
      "35                                            1              The Runner   \n",
      "78                                            1          City of Angels   \n",
      "85                                            1  It Could Happen to You   \n",
      "87                                            1                Deadfall   \n",
      "\n",
      "          rating                 genres  \n",
      "movie_id                                 \n",
      "35           4.7                  Drama  \n",
      "78           6.7  Drama;Fantasy;Romance  \n",
      "85           6.4   Comedy;Drama;Romance  \n",
      "87           4.0            Crime;Drama  \n"
     ]
    }
   ],
   "source": [
    "df_predicted_movies_merged = pd.merge(df_y_pred_drama,                          # Inner join based on index\n",
    "                       df_predicted_movies,\n",
    "                       left_index = True,\n",
    "                       right_index = True)\n",
    "print(df_predicted_movies_merged.head())"
   ]
  },
  {
   "cell_type": "code",
   "execution_count": 252,
   "metadata": {},
   "outputs": [],
   "source": [
    "# reclassify rating \n",
    "df_predicted_movies_merged = df_predicted_movies_merged.assign(reclassified_rating=df_predicted_movies_merged[\"rating\"].apply(lambda x: pd.Series(classify_rtg(x, rtg_thres))))"
   ]
  },
  {
   "cell_type": "code",
   "execution_count": 253,
   "metadata": {},
   "outputs": [
    {
     "name": "stdout",
     "output_type": "stream",
     "text": [
      "Index(['predicted_rating_greater_than_average', 'title', 'rating', 'genres',\n",
      "       'reclassified_rating'],\n",
      "      dtype='object')\n",
      "          predicted_rating_greater_than_average                   title  \\\n",
      "movie_id                                                                  \n",
      "35                                            1              The Runner   \n",
      "78                                            1          City of Angels   \n",
      "85                                            1  It Could Happen to You   \n",
      "87                                            1                Deadfall   \n",
      "\n",
      "          rating                 genres  reclassified_rating  \n",
      "movie_id                                                      \n",
      "35           4.7                  Drama                    0  \n",
      "78           6.7  Drama;Fantasy;Romance                    1  \n",
      "85           6.4   Comedy;Drama;Romance                    1  \n",
      "87           4.0            Crime;Drama                    0  \n"
     ]
    }
   ],
   "source": [
    "print(df_predicted_movies_merged.columns)\n",
    "print(df_predicted_movies_merged.head())"
   ]
  },
  {
   "cell_type": "code",
   "execution_count": 254,
   "metadata": {},
   "outputs": [],
   "source": [
    "pred_pred_rating = (df_predicted_movies_merged['predicted_rating_greater_than_average'])\n",
    "pred_true_rating = (df_predicted_movies_merged['reclassified_rating'])"
   ]
  },
  {
   "cell_type": "code",
   "execution_count": 255,
   "metadata": {},
   "outputs": [],
   "source": [
    "def calcConfMatAccuracy(true_list, predicted_list):\n",
    "    # needs numpy\n",
    "    y_true = np.array(true_list)\n",
    "    y_pred = np.array(predicted_list)\n",
    "    acc = (y_true == y_pred).sum() / float(len(y_true))\n",
    "    return acc"
   ]
  },
  {
   "cell_type": "code",
   "execution_count": 256,
   "metadata": {},
   "outputs": [
    {
     "name": "stdout",
     "output_type": "stream",
     "text": [
      "The prediction accuracy for the selected movies is 0.5\n"
     ]
    }
   ],
   "source": [
    "l_true = np.array(pred_true_rating)\n",
    "l_pred = np.array(pred_pred_rating)\n",
    "cf_acc = calcConfMatAccuracy(l_true, l_pred)\n",
    "print(f'The prediction accuracy for the selected movies is {cf_acc}')"
   ]
  },
  {
   "cell_type": "code",
   "execution_count": 273,
   "metadata": {},
   "outputs": [
    {
     "data": {
      "image/png": "[encoded data removed]",
      "text/plain": [
       "<Figure size 720x360 with 1 Axes>"
      ]
     },
     "metadata": {
      "needs_background": "light"
     },
     "output_type": "display_data"
    },
    {
     "name": "stdout",
     "output_type": "stream",
     "text": [
      "Mean model accuracy: 0.725\n",
      "Variance of model accuracy: 0.034027777777777775\n"
     ]
    }
   ],
   "source": [
    "# Visualization 2\n",
    "# Horizontal Bar Plot of the model accuracy on multiple runs.\n",
    "# Collect the accuracy in a list and save in a commented out cell\n",
    "\n",
    "'''\n",
    "runs = ['Run1', 'Run2', 'Run3', 'Run4', 'Run5', 'Run6', 'Run7', 'Run8', 'Run9', 'Run10']\n",
    "model_accuracies = [0.75, 0.75, 0.75, 0.75, 0.75, 0.50, 1.00, 1.00, 0.50, 0.50]\n",
    "\n",
    "'''\n",
    "\n",
    "runs = ['Run1', 'Run2', 'Run3', 'Run4', 'Run5', 'Run6', 'Run7', 'Run8', 'Run9', 'Run10']\n",
    "model_accuracies = [0.75, 0.75, 0.75, 0.75, 0.75, 0.50, 1.00, 1.00, 0.50, 0.50]\n",
    "\n",
    "plt.rcParams['figure.figsize'] = [10, 5]\n",
    "plt.barh(range(len(runs)), model_accuracies, tick_label=runs)\n",
    "plt.xticks(rotation=0 )\n",
    "for index, value in enumerate(model_accuracies):\n",
    "    plt.text(value, index,\n",
    "             str(value))\n",
    "plt.xlabel(\"% of Accuracy\")\n",
    "plt.title(\"Horizontal Bar Chart of Model Accuracy Running 10 Times\")\n",
    "plt.show()\n",
    "\n",
    "print(f'Mean model accuracy: {statistics.mean(model_accuracies)}')\n",
    "# Variance: how far the set of values are spread out far away from the average value.\n",
    "print(f'Variance of model accuracy: {statistics.variance(model_accuracies)}')\n"
   ]
  },
  {
   "cell_type": "code",
   "execution_count": 274,
   "metadata": {},
   "outputs": [
    {
     "data": {
      "image/png": "[encoded data removed]",
      "text/plain": [
       "<Figure size 720x360 with 1 Axes>"
      ]
     },
     "metadata": {
      "needs_background": "light"
     },
     "output_type": "display_data"
    },
    {
     "name": "stdout",
     "output_type": "stream",
     "text": [
      "Mean prediction accuracy: 0.7140000000000001\n",
      "Variance of prediction accuracy: 0.01129333333333333\n"
     ]
    }
   ],
   "source": [
    "# Visualization 3\n",
    "# Horizontal Bar Plot of the prediction accuracy on multiple runs.\n",
    "# Collect the predicted accuracy in a list and save in a commented out cell\n",
    "\n",
    "'''\n",
    "runs = ['Run1', 'Run2', 'Run3', 'Run4', 'Run5', 'Run6', 'Run7', 'Run8', 'Run9', 'Run10']\n",
    "prediction_accuracies = [0.78, 0.67, 0.78, 0.78, 0.56, 0.56, 0.89, 0.78, 0.67, 0.67]\n",
    "\n",
    "'''\n",
    "\n",
    "prediction_accuracies = [0.78, 0.67, 0.78, 0.78, 0.56, 0.56, 0.89, 0.78, 0.67, 0.67]\n",
    "plt.rcParams['figure.figsize'] = [10, 5]\n",
    "plt.barh(range(len(runs)), prediction_accuracies, tick_label=runs)\n",
    "plt.xticks(rotation=0 )\n",
    "for index, value in enumerate(prediction_accuracies):\n",
    "    plt.text(value, index,\n",
    "             str(value))\n",
    "plt.xlabel(\"% of Accuracy\")\n",
    "plt.title(\"Horizontal Bar Chart of Prediction Accuracy Running 10 Times\")\n",
    "plt.show()\n",
    "\n",
    "print(f'Mean prediction accuracy: {statistics.mean(prediction_accuracies)}')\n",
    "# Variance: how far the set of values are spread out far away from the average value.\n",
    "print(f'Variance of prediction accuracy: {statistics.variance(prediction_accuracies)}')"
   ]
  }
 ],
 "metadata": {
  "kernelspec": {
   "display_name": "Python 3",
   "language": "python",
   "name": "python3"
  },
  "language_info": {
   "codemirror_mode": {
    "name": "ipython",
    "version": 3
   },
   "file_extension": ".py",
   "mimetype": "text/x-python",
   "name": "python",
   "nbconvert_exporter": "python",
   "pygments_lexer": "ipython3",
   "version": "3.8.3"
  }
 },
 "nbformat": 4,
 "nbformat_minor": 4
}
